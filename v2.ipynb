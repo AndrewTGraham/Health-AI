{
 "cells": [
  {
   "cell_type": "code",
   "execution_count": 1,
   "id": "6b2458ad-02c4-4f19-852a-cd0527dd955f",
   "metadata": {},
   "outputs": [],
   "source": [
    "#79############################################################################\n",
    "#72#####################################################################\n",
    "import numpy as np\n",
    "import pandas as pd\n",
    "import pandas as pd\n",
    "import numpy as np\n",
    "from sklearn.model_selection import RepeatedStratifiedKFold\n",
    "from sklearn.model_selection import cross_val_score\n",
    "from xgboost import XGBClassifier\n",
    "from sklearn.utils import shuffle\n",
    "from datetime import datetime\n",
    "\n",
    "pd.set_option('display.max_columns', None)"
   ]
  },
  {
   "cell_type": "code",
   "execution_count": 2,
   "id": "7fe8cbf0-857b-4ad6-8096-6ce7f8302d94",
   "metadata": {},
   "outputs": [],
   "source": [
    "filepath = ('C:/Users/andre/OneDrive/Desktop/GitHub/Health-AI/'\n",
    "            'icr-identify-age-related-conditions/')\n",
    "\n",
    "train   = pd.read_csv(filepath+'train.csv')\n",
    "test    = pd.read_csv(filepath+'test.csv')\n",
    "greeks  = pd.read_csv(filepath+'greeks.csv')\n",
    "example = pd.read_csv(filepath+'sample_submission.csv')"
   ]
  },
  {
   "cell_type": "code",
   "execution_count": 3,
   "id": "fb4f6b14-5e16-45d5-b139-a0858ecc0765",
   "metadata": {},
   "outputs": [],
   "source": [
    "def prep_df(df):\n",
    "    # Move categorical col to beginning of df\n",
    "    cols = list(df.columns)\n",
    "    cols.remove('EJ')\n",
    "    # cols.insert(1,'EJ') # Temporarily I will remove this\n",
    "    df=df[cols]\n",
    "    \n",
    "    df=df.set_index('Id').copy(deep=True)\n",
    "\n",
    "    # Temporarily just fillna\n",
    "    df.fillna(0,inplace=True)\n",
    "\n",
    "    # Remove whitespace from column names\n",
    "    renamer={}\n",
    "    for col in df.columns:\n",
    "        renamer[col]=col.strip()\n",
    "    df.rename(columns=renamer,inplace=True)\n",
    "    return df\n",
    "train=prep_df(train)\n",
    "test=prep_df(test)"
   ]
  },
  {
   "cell_type": "code",
   "execution_count": 4,
   "id": "459dbf8d-9cd7-4f36-b5d8-a0db38ea85ee",
   "metadata": {},
   "outputs": [
    {
     "name": "stdout",
     "output_type": "stream",
     "text": [
      "starting iteration 0\n"
     ]
    },
    {
     "name": "stderr",
     "output_type": "stream",
     "text": [
      "C:\\Users\\andre\\anaconda3\\lib\\site-packages\\xgboost\\sklearn.py:1395: UserWarning: `use_label_encoder` is deprecated in 1.7.0.\n",
      "  warnings.warn(\"`use_label_encoder` is deprecated in 1.7.0.\")\n"
     ]
    },
    {
     "name": "stdout",
     "output_type": "stream",
     "text": [
      "starting iteration 1\n"
     ]
    },
    {
     "name": "stderr",
     "output_type": "stream",
     "text": [
      "C:\\Users\\andre\\anaconda3\\lib\\site-packages\\xgboost\\sklearn.py:1395: UserWarning: `use_label_encoder` is deprecated in 1.7.0.\n",
      "  warnings.warn(\"`use_label_encoder` is deprecated in 1.7.0.\")\n"
     ]
    },
    {
     "name": "stdout",
     "output_type": "stream",
     "text": [
      "starting iteration 2\n"
     ]
    },
    {
     "name": "stderr",
     "output_type": "stream",
     "text": [
      "C:\\Users\\andre\\anaconda3\\lib\\site-packages\\xgboost\\sklearn.py:1395: UserWarning: `use_label_encoder` is deprecated in 1.7.0.\n",
      "  warnings.warn(\"`use_label_encoder` is deprecated in 1.7.0.\")\n"
     ]
    }
   ],
   "source": [
    "foldCount=3\n",
    "\n",
    "train = shuffle(train, random_state=1)\n",
    "# Separate into input variables and target variable.\n",
    "x = train[train.columns[:-1]].copy(deep=True)\n",
    "y = train[train.columns[-1]].copy(deep=True)\n",
    "del train\n",
    "\n",
    "rowsPerFold=len(x)//foldCount\n",
    "BonusRowsInLastFold=len(x)%foldCount\n",
    "\n",
    "\n",
    "resultslist=[]\n",
    "oof_results=[]\n",
    "\n",
    "for iteration in range(foldCount):\n",
    "    print('starting iteration',iteration)\n",
    "   \n",
    "    # Choosing data to include in this\n",
    "    firstRow=iteration*rowsPerFold\n",
    "    if iteration+1==foldCount:\n",
    "        rowJustPastFold=firstRow+rowsPerFold+BonusRowsInLastFold\n",
    "    else: rowJustPastFold=firstRow+rowsPerFold\n",
    "    currentx = pd.concat([x.iloc[:firstRow],x.iloc[rowJustPastFold:]])\n",
    "    currenty = pd.concat([y.iloc[:firstRow],y.iloc[rowJustPastFold:]])\n",
    "   \n",
    "    # Build Model\n",
    "    model = XGBClassifier(objective='binary:logistic',\n",
    "                          random_state=1,\n",
    "                          verbosity=1,\n",
    "                          use_label_encoder=False,\n",
    "                          n_jobs=-1,\n",
    "                          colsample_bytree=0.05,\n",
    "                          gamma=0.4,\n",
    "                          learning_rate=.0225,\n",
    "                          min_child_weight=10,\n",
    "                          subsample=0.7,\n",
    "                          n_estimators=5000,\n",
    "                          max_depth=3,\n",
    "                          reg_lambda=4)\n",
    "    model.fit(currentx, currenty, verbose=1)\n",
    "\n",
    "    # Score Out of fold (oof)\n",
    "    for predictedVal in model.predict_proba(\n",
    "        x.iloc[firstRow:rowJustPastFold])[:,1]:\n",
    "        oof_results.append(predictedVal)\n",
    "\n",
    "    # Score Test Dataset\n",
    "    \"\"\"\n",
    "    Predict_proba returns a 2 dimensional array, but I will just keep the\n",
    "    probabilities of class_1. Hence [:,1]\n",
    "    \"\"\"\n",
    "    results = model.predict_proba(test)[:,1]\n",
    "    resultslist.append(results)\n",
    "\n",
    "\n",
    "# Average the predictions on the test dataset and store it\n",
    "results = []\n",
    "for pos in range(len(resultslist[0])):\n",
    "    prediction=0\n",
    "    for listX in range(foldCount):\n",
    "        prediction+=resultslist[listX][pos]\n",
    "    prediction=prediction/foldCount\n",
    "    results.append(prediction)"
   ]
  },
  {
   "cell_type": "code",
   "execution_count": 5,
   "id": "c1203d98-9e99-4ac8-9129-040f2bb14619",
   "metadata": {},
   "outputs": [],
   "source": [
    "submission = test.copy(deep=True)\n",
    "submission['class_1'] = results\n",
    "submission['class_0'] = [1 - x for x in results]\n",
    "submission=submission[['class_0','class_1']]\n",
    "\n",
    "# Save the out of fold predictions on the train dataset\n",
    "x['Class']=oof_results\n",
    "x=x['Class']\n",
    "x.sort_index(inplace=True)"
   ]
  },
  {
   "cell_type": "code",
   "execution_count": 8,
   "id": "c58f5a7b-777d-4b54-9c98-9bbd2c09049f",
   "metadata": {},
   "outputs": [],
   "source": [
    "save_output=False\n",
    "\n",
    "if save_output:\n",
    "    outputFileName = 'v2'\n",
    "    outputFileName += (' ' + str(datetime.today())[:22].replace(':','.'))\n",
    "    x.to_csv(outputFileName + ' ooftrain.csv')\n",
    "    submission.to_csv(outputFileName + '.csv')"
   ]
  }
 ],
 "metadata": {
  "kernelspec": {
   "display_name": "Python 3 (ipykernel)",
   "language": "python",
   "name": "python3"
  },
  "language_info": {
   "codemirror_mode": {
    "name": "ipython",
    "version": 3
   },
   "file_extension": ".py",
   "mimetype": "text/x-python",
   "name": "python",
   "nbconvert_exporter": "python",
   "pygments_lexer": "ipython3",
   "version": "3.9.12"
  }
 },
 "nbformat": 4,
 "nbformat_minor": 5
}
