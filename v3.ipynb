{
 "cells": [
  {
   "cell_type": "code",
   "execution_count": 10,
   "id": "6b2458ad-02c4-4f19-852a-cd0527dd955f",
   "metadata": {},
   "outputs": [],
   "source": [
    "#79############################################################################\n",
    "#72#####################################################################\n",
    "import numpy as np\n",
    "import pandas as pd\n",
    "import pandas as pd\n",
    "import numpy as np\n",
    "from xgboost import XGBClassifier\n",
    "from sklearn.utils import shuffle\n",
    "from sklearn.metrics import confusion_matrix\n",
    "from sklearn.preprocessing import StandardScaler\n",
    "from datetime import datetime\n",
    "import plotly.express as px\n",
    "from sklearn.model_selection import StratifiedKFold\n",
    "from sklearn.utils import class_weight\n",
    "from sklearn.metrics import log_loss\n",
    "import matplotlib.pyplot as plt\n",
    "import seaborn as sns\n",
    "\n",
    "pd.set_option('display.max_columns', None)"
   ]
  },
  {
   "cell_type": "code",
   "execution_count": 2,
   "id": "c9664643-da49-489f-bf30-a514c0f56d4c",
   "metadata": {},
   "outputs": [],
   "source": [
    "filepath = ('C:/Users/andre/OneDrive/Desktop/GitHub/Health-AI/'\n",
    "            'icr-identify-age-related-conditions/')"
   ]
  },
  {
   "cell_type": "code",
   "execution_count": 3,
   "id": "72deaf5f-f3e4-4ea4-ba68-7ce5c0e7f214",
   "metadata": {},
   "outputs": [],
   "source": [
    "def balanced_log_loss(y_true, y_pred):\n",
    "    # This is the old formula. It is wrong.\n",
    "    y_pred = np.clip(y_pred, 1e-15, 1-1e-15)\n",
    "    nc = np.bincount(y_true)\n",
    "    w0, w1 = 1/(nc[0]/y_true.shape[0]), 1/(nc[1]/y_true.shape[0])\n",
    "    balanced_log_loss_score = (\n",
    "        -w0/nc[0]\n",
    "        * (np.sum(np.where(y_true==0,1,0)\n",
    "        * np.log(1-y_pred))) - w1/nc[1]\n",
    "        * (np.sum(np.where(y_true!=0,1,0)\n",
    "        * np.log(y_pred)))\n",
    "        ) / (w0+w1)\n",
    "    return balanced_log_loss_score\n",
    "\n",
    "def competition_log_loss(y_true, y_pred):\n",
    "    # Updated Formula (actual eval metric)\n",
    "    # y_true: correct labels 0, 1\n",
    "    # y_pred: predicted probabilities of class=1\n",
    "    # Implements the Evaluation equation with w_0 = w_1 = 1.\n",
    "    # Calculate the number of observations for each class\n",
    "    N_0 = np.sum(1 - y_true)\n",
    "    N_1 = np.sum(y_true)\n",
    "    # Calculate the predicted probabilities for each class\n",
    "    p_1 = np.clip(y_pred, 1e-15, 1 - 1e-15)\n",
    "    p_0 = 1 - p_1\n",
    "    # Calculate the average log loss for each class\n",
    "    log_loss_0 = -np.sum((1 - y_true) * np.log(p_0)) / N_0\n",
    "    log_loss_1 = -np.sum(y_true * np.log(p_1)) / N_1\n",
    "    # return the (not further weighted) average of the averages\n",
    "    return (log_loss_0 + log_loss_1)/2"
   ]
  },
  {
   "cell_type": "code",
   "execution_count": 4,
   "id": "7fe8cbf0-857b-4ad6-8096-6ce7f8302d94",
   "metadata": {},
   "outputs": [],
   "source": [
    "train   = pd.read_csv(filepath+'train.csv')\n",
    "test    = pd.read_csv(filepath+'test.csv')\n",
    "greeks  = pd.read_csv(filepath+'greeks.csv')\n",
    "example = pd.read_csv(filepath+'sample_submission.csv')\n",
    "\n",
    "\n",
    "def solve_whitespace(df):\n",
    "    # The files have whitespace issues\n",
    "    renamer={}\n",
    "    for col in df.columns:\n",
    "        renamer[col]=col.strip()\n",
    "    df.rename(columns=renamer,inplace=True)\n",
    "    return df\n",
    "train = solve_whitespace(train)\n",
    "test  = solve_whitespace(test)"
   ]
  },
  {
   "cell_type": "code",
   "execution_count": 5,
   "id": "2ae9bd1b-a98c-4d78-809f-f56b4adb30cf",
   "metadata": {},
   "outputs": [
    {
     "data": {
      "text/html": [
       "<div>\n",
       "<style scoped>\n",
       "    .dataframe tbody tr th:only-of-type {\n",
       "        vertical-align: middle;\n",
       "    }\n",
       "\n",
       "    .dataframe tbody tr th {\n",
       "        vertical-align: top;\n",
       "    }\n",
       "\n",
       "    .dataframe thead th {\n",
       "        text-align: right;\n",
       "    }\n",
       "</style>\n",
       "<table border=\"1\" class=\"dataframe\">\n",
       "  <thead>\n",
       "    <tr style=\"text-align: right;\">\n",
       "      <th></th>\n",
       "      <th>data type</th>\n",
       "      <th>missing</th>\n",
       "    </tr>\n",
       "  </thead>\n",
       "  <tbody>\n",
       "    <tr>\n",
       "      <th>BQ</th>\n",
       "      <td>float64</td>\n",
       "      <td>60</td>\n",
       "    </tr>\n",
       "    <tr>\n",
       "      <th>CB</th>\n",
       "      <td>float64</td>\n",
       "      <td>2</td>\n",
       "    </tr>\n",
       "    <tr>\n",
       "      <th>CC</th>\n",
       "      <td>float64</td>\n",
       "      <td>3</td>\n",
       "    </tr>\n",
       "    <tr>\n",
       "      <th>DU</th>\n",
       "      <td>float64</td>\n",
       "      <td>1</td>\n",
       "    </tr>\n",
       "    <tr>\n",
       "      <th>EL</th>\n",
       "      <td>float64</td>\n",
       "      <td>60</td>\n",
       "    </tr>\n",
       "    <tr>\n",
       "      <th>FC</th>\n",
       "      <td>float64</td>\n",
       "      <td>1</td>\n",
       "    </tr>\n",
       "    <tr>\n",
       "      <th>FL</th>\n",
       "      <td>float64</td>\n",
       "      <td>1</td>\n",
       "    </tr>\n",
       "    <tr>\n",
       "      <th>FS</th>\n",
       "      <td>float64</td>\n",
       "      <td>2</td>\n",
       "    </tr>\n",
       "    <tr>\n",
       "      <th>GL</th>\n",
       "      <td>float64</td>\n",
       "      <td>1</td>\n",
       "    </tr>\n",
       "  </tbody>\n",
       "</table>\n",
       "</div>"
      ],
      "text/plain": [
       "   data type  missing\n",
       "BQ   float64       60\n",
       "CB   float64        2\n",
       "CC   float64        3\n",
       "DU   float64        1\n",
       "EL   float64       60\n",
       "FC   float64        1\n",
       "FL   float64        1\n",
       "FS   float64        2\n",
       "GL   float64        1"
      ]
     },
     "execution_count": 5,
     "metadata": {},
     "output_type": "execute_result"
    }
   ],
   "source": [
    "# Exploring missing values\n",
    "\n",
    "train_summary = pd.DataFrame(train[1:].dtypes, columns=['data type'])\n",
    "train_summary['missing'] = train.isnull().sum().values \n",
    "desc = pd.DataFrame(train.describe(include='all').transpose())\n",
    "train_summary[train_summary['missing']!=0]"
   ]
  },
  {
   "cell_type": "code",
   "execution_count": 11,
   "id": "3d3010b4-54d9-480f-ae37-74045b6ba56c",
   "metadata": {},
   "outputs": [
    {
     "data": {
      "image/png": "[encoded data removed]",
      "text/plain": [
       "<Figure size 1152x1440 with 55 Axes>"
      ]
     },
     "metadata": {
      "needs_background": "light"
     },
     "output_type": "display_data"
    }
   ],
   "source": [
    "# Distribution of Numerical Vairbles\n",
    "num_cols = test.select_dtypes(include=['float64']).columns.tolist()\n",
    "figsize = (4*4, 20)\n",
    "fig = plt.figure(figsize=figsize)\n",
    "for idx, col in enumerate(num_cols):\n",
    "    ax = plt.subplot(11,5, idx + 1)\n",
    "    sns.kdeplot(\n",
    "        data=train, hue='Class', fill=True,\n",
    "        x=col, palette=['#9E3F00', 'red'], legend=False\n",
    "    )\n",
    "            \n",
    "    ax.set_ylabel(''); ax.spines['top'].set_visible(False), \n",
    "    ax.set_xlabel(''); ax.spines['right'].set_visible(False)\n",
    "    ax.set_title(f'{col}', loc='right', \n",
    "                 weight='bold', fontsize=20)\n",
    "\n",
    "fig.suptitle(f'Features vs Target\\n\\n\\n', ha='center',  fontweight='bold', fontsize=21)\n",
    "fig.legend([1, 0], loc='upper center', bbox_to_anchor=(0.5, 0.96), fontsize=21, ncol=3)\n",
    "plt.tight_layout()\n",
    "plt.show()"
   ]
  },
  {
   "cell_type": "code",
   "execution_count": 56,
   "id": "0928c196-b717-4e3a-9898-a018390e1490",
   "metadata": {},
   "outputs": [
    {
     "name": "stdout",
     "output_type": "stream",
     "text": [
      "13.038894\n"
     ]
    },
    {
     "data": {
      "application/vnd.plotly.v1+json": {
       "config": {
        "plotlyServerURL": "https://plot.ly"
       },
       "data": [
        {
         "alignmentgroup": "True",
         "bingroup": "x",
         "hovertemplate": "GF=%{x}<br>count=%{y}<extra></extra>",
         "legendgroup": "",
         "marker": {
          "color": "#636efa",
          "pattern": {
           "shape": ""
          }
         },
         "name": "",
         "nbinsx": 100,
         "offsetgroup": "",
         "orientation": "v",
         "showlegend": false,
         "type": "histogram",
         "x": [
          27981.56275,
          13676.95781,
          2094.262452,
          24177.59555,
          3332.467494,
          21371.75985,
          4589.611956,
          5563.130949,
          8192.631033,
          25583.3073,
          11777.14153,
          2218.44906,
          37275.60854,
          49250.99506,
          3597.87744,
          21451.81061,
          487.145502,
          15721.62348,
          11813.77159,
          5987.708568,
          1884.728169,
          1622.342844,
          103451.5626,
          30045.93329,
          5164.049376,
          6224.083902,
          24355.46426,
          4256.400636,
          5796.783468,
          53490.56891,
          36639.45398,
          56896.66614,
          2520.01449,
          17473.86319,
          28567.52566,
          4749.112053,
          35202.92303,
          819.350802,
          6209.544726,
          22884.02879,
          952.59159,
          28675.78216,
          7081.000803,
          9467.54487,
          52174.61602,
          1273.73067,
          13150.30853,
          19620.43868,
          1949.356206,
          23927.81391,
          28403.43943,
          27590.14661,
          1426.394205,
          119212.6439,
          6111.195336,
          2418.052176,
          12453.75778,
          8362.510632,
          14322.42024,
          14964.46439,
          1831.028571,
          2083.716738,
          642.5406,
          23639.94785,
          7838.27361,
          1415.695401,
          33053.39071,
          4012.195842,
          30583.2442,
          23844.39517,
          10093.11435,
          14377.72291,
          67917.4862,
          26250.32043,
          28517.66644,
          25097.2553,
          1731.843747,
          39292.97607,
          34569.72967,
          1171.855836,
          1803.702006,
          32123.39958,
          14301.99148,
          11777.34492,
          477.61893,
          5625.703206,
          12717.95612,
          8597.759661,
          11744.47868,
          2001.336822,
          580.703175,
          1910.73816,
          22920.07493,
          59180.21125,
          44669.06603,
          7988.146533,
          6926.005926,
          14173.43087,
          1616.007105,
          36439.64966,
          13055.30962,
          11307.58607,
          14796.29503,
          373.793292,
          16164.48442,
          870.264162,
          272.340549,
          13.038894,
          1577.712735,
          10937.86497,
          5167.220526,
          9797.23512,
          24050.53523,
          22904.63908,
          4057.783857,
          18555.45278,
          8050.058316,
          1520.242749,
          4927.481586,
          6039.13806,
          1448.445726,
          7863.793713,
          12851.98861,
          3272.36436,
          5640.087105,
          309.464874,
          2817.590832,
          30501.02612,
          410.058126,
          10242.71827,
          71549.62081,
          23790.38283,
          33885.48735,
          6592.180059,
          80378.45671,
          7478.350272,
          14712.45638,
          2850.852915,
          12170.12575,
          1240.383294,
          1818.969453,
          31771.62938,
          9790.822836,
          6211.163106,
          7491.170466,
          30872.91672,
          2665.900512,
          20714.85722,
          762.097329,
          10032.17578,
          57935.13903,
          7268.07897,
          2923.791552,
          6206.977188,
          16178.58182,
          31867.98422,
          79330.70437,
          4012.703226,
          4165.609518,
          3344.762808,
          6616.737882,
          2878.00452,
          1579.687596,
          5159.734425,
          13288.35416,
          5126.728221,
          7451.651376,
          5732.603766,
          4969.603206,
          2418.552999,
          8747.65008,
          15148.16802,
          31694.91817,
          7900.743078,
          4306.88097,
          17089.96158,
          124340.3279,
          43395.39878,
          14566.93778,
          16139.32954,
          4097.27889,
          54240.68804,
          2246.812263,
          47954.86076,
          7727.93946,
          28135.09453,
          6939.427545,
          940.753359,
          3541.10292,
          54170.41536,
          9844.75863,
          3477.697416,
          2032.431588,
          20685.98226,
          36279.11948,
          10955.16414,
          862.299108,
          6844.557672,
          11182.90957,
          407.989224,
          13.038894,
          8195.76063,
          30567.81272,
          11483.06439,
          2084.744628,
          2725.076358,
          1723.64031,
          2112.316137,
          8463.2526,
          3643.605423,
          4186.582848,
          14905.50069,
          48734.58749,
          11564.02275,
          7576.432848,
          3494.69478,
          15889.41668,
          9654.918282,
          27956.71843,
          6000.327558,
          7069.2588,
          2368.894977,
          13.038894,
          557.249787,
          4378.430862,
          1442.965104,
          2425.619196,
          5680.238238,
          40502.0284,
          1407.360744,
          2566.877526,
          23672.7441,
          1800.504612,
          3586.15512,
          2742.701391,
          23657.56632,
          578.244987,
          46214.33681,
          2832.086268,
          4316.090427,
          65168.90834,
          7752.855951,
          4662.996741,
          22495.51262,
          8392.424418,
          650.083563,
          44126.4604,
          35004.60587,
          11236.11053,
          1512.544509,
          2605.661784,
          5197.783851,
          33677.51677,
          36672.2546,
          1024.554825,
          219.631662,
          5229.733734,
          21724.16647,
          6788.725749,
          311.914314,
          44792.36253,
          15049.57369,
          13.038894,
          11838.81712,
          39625.52254,
          2084.121333,
          1896.371757,
          8899.349148,
          3042.064512,
          2737.11798,
          12687.83239,
          6972.947694,
          1842.193206,
          58645.66034,
          245.396709,
          4813.615431,
          5820.761736,
          40629.67047,
          7174.280727,
          2514.695706,
          32485.26935,
          4255.175916,
          3301.827624,
          3010.01184,
          313.869492,
          27826.88936,
          223.99254,
          47057.51716,
          54393.63808,
          3254.710896,
          13596.96391,
          6452.279856,
          21982.48178,
          6115.897386,
          14702.79859,
          829.174806,
          1202.736276,
          10874.46603,
          59497.50559,
          15170.60664,
          13.038894,
          7359.279057,
          1668.276405,
          31270.64454,
          7018.662555,
          2322.46278,
          341.174187,
          2076.648354,
          7605.460899,
          11180.17582,
          3754.632852,
          4050.940734,
          2027.598318,
          18888.69472,
          11356.13091,
          38469.54433,
          6198.863418,
          18417.6193,
          5451.62238,
          23732.65915,
          3369.77334,
          5300.920584,
          25979.21554,
          8391.728952,
          42949.19611,
          6493.981572,
          3186.598968,
          63292.08399,
          9422.95194,
          2410.7301,
          5941.696275,
          17084.31037,
          26097.2698,
          4431.089448,
          9155.805516,
          42773.0092,
          36962.52637,
          28153.52656,
          2583.395937,
          41711.3213,
          2995.746039,
          15136.89185,
          24212.7822,
          14346.82935,
          20268.14279,
          52081.00805,
          16510.2185,
          43990.78329,
          1773.17586,
          6511.022676,
          11953.7549,
          2934.835902,
          17590.16347,
          530.52246,
          37989.16103,
          43382.95475,
          37942.94534,
          595.765044,
          8993.95002,
          17906.50865,
          5892.167286,
          12214.95925,
          24323.70465,
          54130.29266,
          29154.40274,
          15267.05771,
          13815.68578,
          3226.859451,
          5251.885857,
          906.638346,
          975.316707,
          14650.26685,
          9825.552396,
          10453.59975,
          24196.57434,
          24304.37157,
          1759.196556,
          891.322785,
          4188.850767,
          3266.41572,
          9404.826084,
          3115.934811,
          10310.62025,
          8036.444241,
          38086.08012,
          6080.391441,
          25422.74651,
          13162.14457,
          9197.371638,
          1753.748739,
          2221.895772,
          21818.07187,
          7968.13767,
          8082.544014,
          20735.32098,
          12484.41296,
          946.979748,
          6016.454496,
          16045.77406,
          37611.16432,
          1200.302145,
          8054.445438,
          2646.989523,
          28431.62111,
          8206.925265,
          3580.530156,
          558.039294,
          871.335792,
          34299.797,
          68219.44529,
          3361.259349,
          14499.27419,
          15383.33613,
          32981.01413,
          22659.09584,
          45690.28787,
          21645.49133,
          10491.63168,
          31583.309,
          15991.35712,
          14688.01447,
          13.038894,
          5874.474456,
          3086.887077,
          45474.68247,
          2407.388364,
          2806.434945,
          1401.381486,
          4308.01821,
          55497.52195,
          7902.173376,
          7214.961114,
          7521.784092,
          20154.74902,
          19288.65766,
          160.814484,
          104289.3717,
          12596.87506,
          2671.149312,
          28346.73926,
          8176.554396,
          9786.129534,
          2290.016448,
          8089.194681,
          5846.583645,
          19724.76295,
          6171.724935,
          2524.751532,
          7669.056672,
          119643.0149,
          26213.73629,
          18988.79809,
          4554.414378,
          28717.76163,
          20431.10272,
          111111.0599,
          11916.8121,
          30104.38305,
          24430.83266,
          7079.205276,
          4234.399416,
          4833.383724,
          14473.78033,
          17344.29218,
          2785.93182,
          4911.188436,
          18119.68866,
          6023.124846,
          3012.793704,
          8009.64693,
          7444.06686,
          4855.55553,
          46899.57202,
          11234.64524,
          117580.0528,
          4421.799072,
          1150.965612,
          2184.85674,
          8899.331652,
          2118.717486,
          8514.95328,
          5252.358249,
          21673.01254,
          8930.443914,
          16158.27771,
          37706.5219,
          904.153914,
          1849.552461,
          12458.07491,
          2790.445788,
          18878.55798,
          1477.058247,
          13738.93302,
          3318.761565,
          24072.41835,
          9146.473587,
          2369.41767,
          30886.55923,
          7886.435724,
          19035.70924,
          143790.0712,
          7113.007548,
          38475.31801,
          10960.36483,
          8095.932828,
          3085.308063,
          6474.652866,
          1965.343176,
          6850.484442
         ],
         "xaxis": "x",
         "yaxis": "y"
        }
       ],
       "layout": {
        "autosize": true,
        "barmode": "relative",
        "legend": {
         "tracegroupgap": 0
        },
        "margin": {
         "t": 60
        },
        "template": {
         "data": {
          "bar": [
           {
            "error_x": {
             "color": "#2a3f5f"
            },
            "error_y": {
             "color": "#2a3f5f"
            },
            "marker": {
             "line": {
              "color": "#E5ECF6",
              "width": 0.5
             },
             "pattern": {
              "fillmode": "overlay",
              "size": 10,
              "solidity": 0.2
             }
            },
            "type": "bar"
           }
          ],
          "barpolar": [
           {
            "marker": {
             "line": {
              "color": "#E5ECF6",
              "width": 0.5
             },
             "pattern": {
              "fillmode": "overlay",
              "size": 10,
              "solidity": 0.2
             }
            },
            "type": "barpolar"
           }
          ],
          "carpet": [
           {
            "aaxis": {
             "endlinecolor": "#2a3f5f",
             "gridcolor": "white",
             "linecolor": "white",
             "minorgridcolor": "white",
             "startlinecolor": "#2a3f5f"
            },
            "baxis": {
             "endlinecolor": "#2a3f5f",
             "gridcolor": "white",
             "linecolor": "white",
             "minorgridcolor": "white",
             "startlinecolor": "#2a3f5f"
            },
            "type": "carpet"
           }
          ],
          "choropleth": [
           {
            "colorbar": {
             "outlinewidth": 0,
             "ticks": ""
            },
            "type": "choropleth"
           }
          ],
          "contour": [
           {
            "colorbar": {
             "outlinewidth": 0,
             "ticks": ""
            },
            "colorscale": [
             [
              0,
              "#0d0887"
             ],
             [
              0.1111111111111111,
              "#46039f"
             ],
             [
              0.2222222222222222,
              "#7201a8"
             ],
             [
              0.3333333333333333,
              "#9c179e"
             ],
             [
              0.4444444444444444,
              "#bd3786"
             ],
             [
              0.5555555555555556,
              "#d8576b"
             ],
             [
              0.6666666666666666,
              "#ed7953"
             ],
             [
              0.7777777777777778,
              "#fb9f3a"
             ],
             [
              0.8888888888888888,
              "#fdca26"
             ],
             [
              1,
              "#f0f921"
             ]
            ],
            "type": "contour"
           }
          ],
          "contourcarpet": [
           {
            "colorbar": {
             "outlinewidth": 0,
             "ticks": ""
            },
            "type": "contourcarpet"
           }
          ],
          "heatmap": [
           {
            "colorbar": {
             "outlinewidth": 0,
             "ticks": ""
            },
            "colorscale": [
             [
              0,
              "#0d0887"
             ],
             [
              0.1111111111111111,
              "#46039f"
             ],
             [
              0.2222222222222222,
              "#7201a8"
             ],
             [
              0.3333333333333333,
              "#9c179e"
             ],
             [
              0.4444444444444444,
              "#bd3786"
             ],
             [
              0.5555555555555556,
              "#d8576b"
             ],
             [
              0.6666666666666666,
              "#ed7953"
             ],
             [
              0.7777777777777778,
              "#fb9f3a"
             ],
             [
              0.8888888888888888,
              "#fdca26"
             ],
             [
              1,
              "#f0f921"
             ]
            ],
            "type": "heatmap"
           }
          ],
          "heatmapgl": [
           {
            "colorbar": {
             "outlinewidth": 0,
             "ticks": ""
            },
            "colorscale": [
             [
              0,
              "#0d0887"
             ],
             [
              0.1111111111111111,
              "#46039f"
             ],
             [
              0.2222222222222222,
              "#7201a8"
             ],
             [
              0.3333333333333333,
              "#9c179e"
             ],
             [
              0.4444444444444444,
              "#bd3786"
             ],
             [
              0.5555555555555556,
              "#d8576b"
             ],
             [
              0.6666666666666666,
              "#ed7953"
             ],
             [
              0.7777777777777778,
              "#fb9f3a"
             ],
             [
              0.8888888888888888,
              "#fdca26"
             ],
             [
              1,
              "#f0f921"
             ]
            ],
            "type": "heatmapgl"
           }
          ],
          "histogram": [
           {
            "marker": {
             "pattern": {
              "fillmode": "overlay",
              "size": 10,
              "solidity": 0.2
             }
            },
            "type": "histogram"
           }
          ],
          "histogram2d": [
           {
            "colorbar": {
             "outlinewidth": 0,
             "ticks": ""
            },
            "colorscale": [
             [
              0,
              "#0d0887"
             ],
             [
              0.1111111111111111,
              "#46039f"
             ],
             [
              0.2222222222222222,
              "#7201a8"
             ],
             [
              0.3333333333333333,
              "#9c179e"
             ],
             [
              0.4444444444444444,
              "#bd3786"
             ],
             [
              0.5555555555555556,
              "#d8576b"
             ],
             [
              0.6666666666666666,
              "#ed7953"
             ],
             [
              0.7777777777777778,
              "#fb9f3a"
             ],
             [
              0.8888888888888888,
              "#fdca26"
             ],
             [
              1,
              "#f0f921"
             ]
            ],
            "type": "histogram2d"
           }
          ],
          "histogram2dcontour": [
           {
            "colorbar": {
             "outlinewidth": 0,
             "ticks": ""
            },
            "colorscale": [
             [
              0,
              "#0d0887"
             ],
             [
              0.1111111111111111,
              "#46039f"
             ],
             [
              0.2222222222222222,
              "#7201a8"
             ],
             [
              0.3333333333333333,
              "#9c179e"
             ],
             [
              0.4444444444444444,
              "#bd3786"
             ],
             [
              0.5555555555555556,
              "#d8576b"
             ],
             [
              0.6666666666666666,
              "#ed7953"
             ],
             [
              0.7777777777777778,
              "#fb9f3a"
             ],
             [
              0.8888888888888888,
              "#fdca26"
             ],
             [
              1,
              "#f0f921"
             ]
            ],
            "type": "histogram2dcontour"
           }
          ],
          "mesh3d": [
           {
            "colorbar": {
             "outlinewidth": 0,
             "ticks": ""
            },
            "type": "mesh3d"
           }
          ],
          "parcoords": [
           {
            "line": {
             "colorbar": {
              "outlinewidth": 0,
              "ticks": ""
             }
            },
            "type": "parcoords"
           }
          ],
          "pie": [
           {
            "automargin": true,
            "type": "pie"
           }
          ],
          "scatter": [
           {
            "marker": {
             "colorbar": {
              "outlinewidth": 0,
              "ticks": ""
             }
            },
            "type": "scatter"
           }
          ],
          "scatter3d": [
           {
            "line": {
             "colorbar": {
              "outlinewidth": 0,
              "ticks": ""
             }
            },
            "marker": {
             "colorbar": {
              "outlinewidth": 0,
              "ticks": ""
             }
            },
            "type": "scatter3d"
           }
          ],
          "scattercarpet": [
           {
            "marker": {
             "colorbar": {
              "outlinewidth": 0,
              "ticks": ""
             }
            },
            "type": "scattercarpet"
           }
          ],
          "scattergeo": [
           {
            "marker": {
             "colorbar": {
              "outlinewidth": 0,
              "ticks": ""
             }
            },
            "type": "scattergeo"
           }
          ],
          "scattergl": [
           {
            "marker": {
             "colorbar": {
              "outlinewidth": 0,
              "ticks": ""
             }
            },
            "type": "scattergl"
           }
          ],
          "scattermapbox": [
           {
            "marker": {
             "colorbar": {
              "outlinewidth": 0,
              "ticks": ""
             }
            },
            "type": "scattermapbox"
           }
          ],
          "scatterpolar": [
           {
            "marker": {
             "colorbar": {
              "outlinewidth": 0,
              "ticks": ""
             }
            },
            "type": "scatterpolar"
           }
          ],
          "scatterpolargl": [
           {
            "marker": {
             "colorbar": {
              "outlinewidth": 0,
              "ticks": ""
             }
            },
            "type": "scatterpolargl"
           }
          ],
          "scatterternary": [
           {
            "marker": {
             "colorbar": {
              "outlinewidth": 0,
              "ticks": ""
             }
            },
            "type": "scatterternary"
           }
          ],
          "surface": [
           {
            "colorbar": {
             "outlinewidth": 0,
             "ticks": ""
            },
            "colorscale": [
             [
              0,
              "#0d0887"
             ],
             [
              0.1111111111111111,
              "#46039f"
             ],
             [
              0.2222222222222222,
              "#7201a8"
             ],
             [
              0.3333333333333333,
              "#9c179e"
             ],
             [
              0.4444444444444444,
              "#bd3786"
             ],
             [
              0.5555555555555556,
              "#d8576b"
             ],
             [
              0.6666666666666666,
              "#ed7953"
             ],
             [
              0.7777777777777778,
              "#fb9f3a"
             ],
             [
              0.8888888888888888,
              "#fdca26"
             ],
             [
              1,
              "#f0f921"
             ]
            ],
            "type": "surface"
           }
          ],
          "table": [
           {
            "cells": {
             "fill": {
              "color": "#EBF0F8"
             },
             "line": {
              "color": "white"
             }
            },
            "header": {
             "fill": {
              "color": "#C8D4E3"
             },
             "line": {
              "color": "white"
             }
            },
            "type": "table"
           }
          ]
         },
         "layout": {
          "annotationdefaults": {
           "arrowcolor": "#2a3f5f",
           "arrowhead": 0,
           "arrowwidth": 1
          },
          "autotypenumbers": "strict",
          "coloraxis": {
           "colorbar": {
            "outlinewidth": 0,
            "ticks": ""
           }
          },
          "colorscale": {
           "diverging": [
            [
             0,
             "#8e0152"
            ],
            [
             0.1,
             "#c51b7d"
            ],
            [
             0.2,
             "#de77ae"
            ],
            [
             0.3,
             "#f1b6da"
            ],
            [
             0.4,
             "#fde0ef"
            ],
            [
             0.5,
             "#f7f7f7"
            ],
            [
             0.6,
             "#e6f5d0"
            ],
            [
             0.7,
             "#b8e186"
            ],
            [
             0.8,
             "#7fbc41"
            ],
            [
             0.9,
             "#4d9221"
            ],
            [
             1,
             "#276419"
            ]
           ],
           "sequential": [
            [
             0,
             "#0d0887"
            ],
            [
             0.1111111111111111,
             "#46039f"
            ],
            [
             0.2222222222222222,
             "#7201a8"
            ],
            [
             0.3333333333333333,
             "#9c179e"
            ],
            [
             0.4444444444444444,
             "#bd3786"
            ],
            [
             0.5555555555555556,
             "#d8576b"
            ],
            [
             0.6666666666666666,
             "#ed7953"
            ],
            [
             0.7777777777777778,
             "#fb9f3a"
            ],
            [
             0.8888888888888888,
             "#fdca26"
            ],
            [
             1,
             "#f0f921"
            ]
           ],
           "sequentialminus": [
            [
             0,
             "#0d0887"
            ],
            [
             0.1111111111111111,
             "#46039f"
            ],
            [
             0.2222222222222222,
             "#7201a8"
            ],
            [
             0.3333333333333333,
             "#9c179e"
            ],
            [
             0.4444444444444444,
             "#bd3786"
            ],
            [
             0.5555555555555556,
             "#d8576b"
            ],
            [
             0.6666666666666666,
             "#ed7953"
            ],
            [
             0.7777777777777778,
             "#fb9f3a"
            ],
            [
             0.8888888888888888,
             "#fdca26"
            ],
            [
             1,
             "#f0f921"
            ]
           ]
          },
          "colorway": [
           "#636efa",
           "#EF553B",
           "#00cc96",
           "#ab63fa",
           "#FFA15A",
           "#19d3f3",
           "#FF6692",
           "#B6E880",
           "#FF97FF",
           "#FECB52"
          ],
          "font": {
           "color": "#2a3f5f"
          },
          "geo": {
           "bgcolor": "white",
           "lakecolor": "white",
           "landcolor": "#E5ECF6",
           "showlakes": true,
           "showland": true,
           "subunitcolor": "white"
          },
          "hoverlabel": {
           "align": "left"
          },
          "hovermode": "closest",
          "mapbox": {
           "style": "light"
          },
          "paper_bgcolor": "white",
          "plot_bgcolor": "#E5ECF6",
          "polar": {
           "angularaxis": {
            "gridcolor": "white",
            "linecolor": "white",
            "ticks": ""
           },
           "bgcolor": "#E5ECF6",
           "radialaxis": {
            "gridcolor": "white",
            "linecolor": "white",
            "ticks": ""
           }
          },
          "scene": {
           "xaxis": {
            "backgroundcolor": "#E5ECF6",
            "gridcolor": "white",
            "gridwidth": 2,
            "linecolor": "white",
            "showbackground": true,
            "ticks": "",
            "zerolinecolor": "white"
           },
           "yaxis": {
            "backgroundcolor": "#E5ECF6",
            "gridcolor": "white",
            "gridwidth": 2,
            "linecolor": "white",
            "showbackground": true,
            "ticks": "",
            "zerolinecolor": "white"
           },
           "zaxis": {
            "backgroundcolor": "#E5ECF6",
            "gridcolor": "white",
            "gridwidth": 2,
            "linecolor": "white",
            "showbackground": true,
            "ticks": "",
            "zerolinecolor": "white"
           }
          },
          "shapedefaults": {
           "line": {
            "color": "#2a3f5f"
           }
          },
          "ternary": {
           "aaxis": {
            "gridcolor": "white",
            "linecolor": "white",
            "ticks": ""
           },
           "baxis": {
            "gridcolor": "white",
            "linecolor": "white",
            "ticks": ""
           },
           "bgcolor": "#E5ECF6",
           "caxis": {
            "gridcolor": "white",
            "linecolor": "white",
            "ticks": ""
           }
          },
          "title": {
           "x": 0.05
          },
          "xaxis": {
           "automargin": true,
           "gridcolor": "white",
           "linecolor": "white",
           "ticks": "",
           "title": {
            "standoff": 15
           },
           "zerolinecolor": "white",
           "zerolinewidth": 2
          },
          "yaxis": {
           "automargin": true,
           "gridcolor": "white",
           "linecolor": "white",
           "ticks": "",
           "title": {
            "standoff": 15
           },
           "zerolinecolor": "white",
           "zerolinewidth": 2
          }
         }
        },
        "xaxis": {
         "anchor": "y",
         "autorange": true,
         "domain": [
          0,
          1
         ],
         "range": [
          -1000,
          145000
         ],
         "title": {
          "text": "GF"
         },
         "type": "linear"
        },
        "yaxis": {
         "anchor": "x",
         "autorange": true,
         "domain": [
          0,
          1
         ],
         "range": [
          0,
          86.3157894736842
         ],
         "title": {
          "text": "count"
         }
        }
       }
      },
      "image/png": "[encoded data removed]",
      "text/html": [
       "<div>                            <div id=\"6cd76c09-d574-4506-95a5-abb3f13c0e3e\" class=\"plotly-graph-div\" style=\"height:525px; width:100%;\"></div>            <script type=\"text/javascript\">                require([\"plotly\"], function(Plotly) {                    window.PLOTLYENV=window.PLOTLYENV || {};                                    if (document.getElementById(\"6cd76c09-d574-4506-95a5-abb3f13c0e3e\")) {                    Plotly.newPlot(                        \"6cd76c09-d574-4506-95a5-abb3f13c0e3e\",                        [{\"alignmentgroup\":\"True\",\"bingroup\":\"x\",\"hovertemplate\":\"GF=%{x}<br>count=%{y}<extra></extra>\",\"legendgroup\":\"\",\"marker\":{\"color\":\"#636efa\",\"pattern\":{\"shape\":\"\"}},\"name\":\"\",\"nbinsx\":100,\"offsetgroup\":\"\",\"orientation\":\"v\",\"showlegend\":false,\"x\":[27981.56275,13676.95781,2094.262452,24177.59555,3332.467494,21371.75985,4589.611956,5563.130949,8192.631033,25583.3073,11777.14153,2218.44906,37275.60854,49250.99506,3597.87744,21451.81061,487.145502,15721.62348,11813.77159,5987.708568,1884.728169,1622.342844,103451.5626,30045.93329,5164.049376,6224.083902,24355.46426,4256.400636,5796.783468,53490.56891,36639.45398,56896.66614,2520.01449,17473.86319,28567.52566,4749.112053,35202.92303,819.350802,6209.544726,22884.02879,952.59159,28675.78216,7081.000803,9467.54487,52174.61602,1273.73067,13150.30853,19620.43868,1949.356206,23927.81391,28403.43943,27590.14661,1426.394205,119212.6439,6111.195336,2418.052176,12453.75778,8362.510632,14322.42024,14964.46439,1831.028571,2083.716738,642.5406,23639.94785,7838.27361,1415.695401,33053.39071,4012.195842,30583.2442,23844.39517,10093.11435,14377.72291,67917.4862,26250.32043,28517.66644,25097.2553,1731.843747,39292.97607,34569.72967,1171.855836,1803.702006,32123.39958,14301.99148,11777.34492,477.61893,5625.703206,12717.95612,8597.759661,11744.47868,2001.336822,580.703175,1910.73816,22920.07493,59180.21125,44669.06603,7988.146533,6926.005926,14173.43087,1616.007105,36439.64966,13055.30962,11307.58607,14796.29503,373.793292,16164.48442,870.264162,272.340549,13.038894,1577.712735,10937.86497,5167.220526,9797.23512,24050.53523,22904.63908,4057.783857,18555.45278,8050.058316,1520.242749,4927.481586,6039.13806,1448.445726,7863.793713,12851.98861,3272.36436,5640.087105,309.464874,2817.590832,30501.02612,410.058126,10242.71827,71549.62081,23790.38283,33885.48735,6592.180059,80378.45671,7478.350272,14712.45638,2850.852915,12170.12575,1240.383294,1818.969453,31771.62938,9790.822836,6211.163106,7491.170466,30872.91672,2665.900512,20714.85722,762.097329,10032.17578,57935.13903,7268.07897,2923.791552,6206.977188,16178.58182,31867.98422,79330.70437,4012.703226,4165.609518,3344.762808,6616.737882,2878.00452,1579.687596,5159.734425,13288.35416,5126.728221,7451.651376,5732.603766,4969.603206,2418.552999,8747.65008,15148.16802,31694.91817,7900.743078,4306.88097,17089.96158,124340.3279,43395.39878,14566.93778,16139.32954,4097.27889,54240.68804,2246.812263,47954.86076,7727.93946,28135.09453,6939.427545,940.753359,3541.10292,54170.41536,9844.75863,3477.697416,2032.431588,20685.98226,36279.11948,10955.16414,862.299108,6844.557672,11182.90957,407.989224,13.038894,8195.76063,30567.81272,11483.06439,2084.744628,2725.076358,1723.64031,2112.316137,8463.2526,3643.605423,4186.582848,14905.50069,48734.58749,11564.02275,7576.432848,3494.69478,15889.41668,9654.918282,27956.71843,6000.327558,7069.2588,2368.894977,13.038894,557.249787,4378.430862,1442.965104,2425.619196,5680.238238,40502.0284,1407.360744,2566.877526,23672.7441,1800.504612,3586.15512,2742.701391,23657.56632,578.244987,46214.33681,2832.086268,4316.090427,65168.90834,7752.855951,4662.996741,22495.51262,8392.424418,650.083563,44126.4604,35004.60587,11236.11053,1512.544509,2605.661784,5197.783851,33677.51677,36672.2546,1024.554825,219.631662,5229.733734,21724.16647,6788.725749,311.914314,44792.36253,15049.57369,13.038894,11838.81712,39625.52254,2084.121333,1896.371757,8899.349148,3042.064512,2737.11798,12687.83239,6972.947694,1842.193206,58645.66034,245.396709,4813.615431,5820.761736,40629.67047,7174.280727,2514.695706,32485.26935,4255.175916,3301.827624,3010.01184,313.869492,27826.88936,223.99254,47057.51716,54393.63808,3254.710896,13596.96391,6452.279856,21982.48178,6115.897386,14702.79859,829.174806,1202.736276,10874.46603,59497.50559,15170.60664,13.038894,7359.279057,1668.276405,31270.64454,7018.662555,2322.46278,341.174187,2076.648354,7605.460899,11180.17582,3754.632852,4050.940734,2027.598318,18888.69472,11356.13091,38469.54433,6198.863418,18417.6193,5451.62238,23732.65915,3369.77334,5300.920584,25979.21554,8391.728952,42949.19611,6493.981572,3186.598968,63292.08399,9422.95194,2410.7301,5941.696275,17084.31037,26097.2698,4431.089448,9155.805516,42773.0092,36962.52637,28153.52656,2583.395937,41711.3213,2995.746039,15136.89185,24212.7822,14346.82935,20268.14279,52081.00805,16510.2185,43990.78329,1773.17586,6511.022676,11953.7549,2934.835902,17590.16347,530.52246,37989.16103,43382.95475,37942.94534,595.765044,8993.95002,17906.50865,5892.167286,12214.95925,24323.70465,54130.29266,29154.40274,15267.05771,13815.68578,3226.859451,5251.885857,906.638346,975.316707,14650.26685,9825.552396,10453.59975,24196.57434,24304.37157,1759.196556,891.322785,4188.850767,3266.41572,9404.826084,3115.934811,10310.62025,8036.444241,38086.08012,6080.391441,25422.74651,13162.14457,9197.371638,1753.748739,2221.895772,21818.07187,7968.13767,8082.544014,20735.32098,12484.41296,946.979748,6016.454496,16045.77406,37611.16432,1200.302145,8054.445438,2646.989523,28431.62111,8206.925265,3580.530156,558.039294,871.335792,34299.797,68219.44529,3361.259349,14499.27419,15383.33613,32981.01413,22659.09584,45690.28787,21645.49133,10491.63168,31583.309,15991.35712,14688.01447,13.038894,5874.474456,3086.887077,45474.68247,2407.388364,2806.434945,1401.381486,4308.01821,55497.52195,7902.173376,7214.961114,7521.784092,20154.74902,19288.65766,160.814484,104289.3717,12596.87506,2671.149312,28346.73926,8176.554396,9786.129534,2290.016448,8089.194681,5846.583645,19724.76295,6171.724935,2524.751532,7669.056672,119643.0149,26213.73629,18988.79809,4554.414378,28717.76163,20431.10272,111111.0599,11916.8121,30104.38305,24430.83266,7079.205276,4234.399416,4833.383724,14473.78033,17344.29218,2785.93182,4911.188436,18119.68866,6023.124846,3012.793704,8009.64693,7444.06686,4855.55553,46899.57202,11234.64524,117580.0528,4421.799072,1150.965612,2184.85674,8899.331652,2118.717486,8514.95328,5252.358249,21673.01254,8930.443914,16158.27771,37706.5219,904.153914,1849.552461,12458.07491,2790.445788,18878.55798,1477.058247,13738.93302,3318.761565,24072.41835,9146.473587,2369.41767,30886.55923,7886.435724,19035.70924,143790.0712,7113.007548,38475.31801,10960.36483,8095.932828,3085.308063,6474.652866,1965.343176,6850.484442],\"xaxis\":\"x\",\"yaxis\":\"y\",\"type\":\"histogram\"}],                        {\"template\":{\"data\":{\"bar\":[{\"error_x\":{\"color\":\"#2a3f5f\"},\"error_y\":{\"color\":\"#2a3f5f\"},\"marker\":{\"line\":{\"color\":\"#E5ECF6\",\"width\":0.5},\"pattern\":{\"fillmode\":\"overlay\",\"size\":10,\"solidity\":0.2}},\"type\":\"bar\"}],\"barpolar\":[{\"marker\":{\"line\":{\"color\":\"#E5ECF6\",\"width\":0.5},\"pattern\":{\"fillmode\":\"overlay\",\"size\":10,\"solidity\":0.2}},\"type\":\"barpolar\"}],\"carpet\":[{\"aaxis\":{\"endlinecolor\":\"#2a3f5f\",\"gridcolor\":\"white\",\"linecolor\":\"white\",\"minorgridcolor\":\"white\",\"startlinecolor\":\"#2a3f5f\"},\"baxis\":{\"endlinecolor\":\"#2a3f5f\",\"gridcolor\":\"white\",\"linecolor\":\"white\",\"minorgridcolor\":\"white\",\"startlinecolor\":\"#2a3f5f\"},\"type\":\"carpet\"}],\"choropleth\":[{\"colorbar\":{\"outlinewidth\":0,\"ticks\":\"\"},\"type\":\"choropleth\"}],\"contour\":[{\"colorbar\":{\"outlinewidth\":0,\"ticks\":\"\"},\"colorscale\":[[0.0,\"#0d0887\"],[0.1111111111111111,\"#46039f\"],[0.2222222222222222,\"#7201a8\"],[0.3333333333333333,\"#9c179e\"],[0.4444444444444444,\"#bd3786\"],[0.5555555555555556,\"#d8576b\"],[0.6666666666666666,\"#ed7953\"],[0.7777777777777778,\"#fb9f3a\"],[0.8888888888888888,\"#fdca26\"],[1.0,\"#f0f921\"]],\"type\":\"contour\"}],\"contourcarpet\":[{\"colorbar\":{\"outlinewidth\":0,\"ticks\":\"\"},\"type\":\"contourcarpet\"}],\"heatmap\":[{\"colorbar\":{\"outlinewidth\":0,\"ticks\":\"\"},\"colorscale\":[[0.0,\"#0d0887\"],[0.1111111111111111,\"#46039f\"],[0.2222222222222222,\"#7201a8\"],[0.3333333333333333,\"#9c179e\"],[0.4444444444444444,\"#bd3786\"],[0.5555555555555556,\"#d8576b\"],[0.6666666666666666,\"#ed7953\"],[0.7777777777777778,\"#fb9f3a\"],[0.8888888888888888,\"#fdca26\"],[1.0,\"#f0f921\"]],\"type\":\"heatmap\"}],\"heatmapgl\":[{\"colorbar\":{\"outlinewidth\":0,\"ticks\":\"\"},\"colorscale\":[[0.0,\"#0d0887\"],[0.1111111111111111,\"#46039f\"],[0.2222222222222222,\"#7201a8\"],[0.3333333333333333,\"#9c179e\"],[0.4444444444444444,\"#bd3786\"],[0.5555555555555556,\"#d8576b\"],[0.6666666666666666,\"#ed7953\"],[0.7777777777777778,\"#fb9f3a\"],[0.8888888888888888,\"#fdca26\"],[1.0,\"#f0f921\"]],\"type\":\"heatmapgl\"}],\"histogram\":[{\"marker\":{\"pattern\":{\"fillmode\":\"overlay\",\"size\":10,\"solidity\":0.2}},\"type\":\"histogram\"}],\"histogram2d\":[{\"colorbar\":{\"outlinewidth\":0,\"ticks\":\"\"},\"colorscale\":[[0.0,\"#0d0887\"],[0.1111111111111111,\"#46039f\"],[0.2222222222222222,\"#7201a8\"],[0.3333333333333333,\"#9c179e\"],[0.4444444444444444,\"#bd3786\"],[0.5555555555555556,\"#d8576b\"],[0.6666666666666666,\"#ed7953\"],[0.7777777777777778,\"#fb9f3a\"],[0.8888888888888888,\"#fdca26\"],[1.0,\"#f0f921\"]],\"type\":\"histogram2d\"}],\"histogram2dcontour\":[{\"colorbar\":{\"outlinewidth\":0,\"ticks\":\"\"},\"colorscale\":[[0.0,\"#0d0887\"],[0.1111111111111111,\"#46039f\"],[0.2222222222222222,\"#7201a8\"],[0.3333333333333333,\"#9c179e\"],[0.4444444444444444,\"#bd3786\"],[0.5555555555555556,\"#d8576b\"],[0.6666666666666666,\"#ed7953\"],[0.7777777777777778,\"#fb9f3a\"],[0.8888888888888888,\"#fdca26\"],[1.0,\"#f0f921\"]],\"type\":\"histogram2dcontour\"}],\"mesh3d\":[{\"colorbar\":{\"outlinewidth\":0,\"ticks\":\"\"},\"type\":\"mesh3d\"}],\"parcoords\":[{\"line\":{\"colorbar\":{\"outlinewidth\":0,\"ticks\":\"\"}},\"type\":\"parcoords\"}],\"pie\":[{\"automargin\":true,\"type\":\"pie\"}],\"scatter\":[{\"marker\":{\"colorbar\":{\"outlinewidth\":0,\"ticks\":\"\"}},\"type\":\"scatter\"}],\"scatter3d\":[{\"line\":{\"colorbar\":{\"outlinewidth\":0,\"ticks\":\"\"}},\"marker\":{\"colorbar\":{\"outlinewidth\":0,\"ticks\":\"\"}},\"type\":\"scatter3d\"}],\"scattercarpet\":[{\"marker\":{\"colorbar\":{\"outlinewidth\":0,\"ticks\":\"\"}},\"type\":\"scattercarpet\"}],\"scattergeo\":[{\"marker\":{\"colorbar\":{\"outlinewidth\":0,\"ticks\":\"\"}},\"type\":\"scattergeo\"}],\"scattergl\":[{\"marker\":{\"colorbar\":{\"outlinewidth\":0,\"ticks\":\"\"}},\"type\":\"scattergl\"}],\"scattermapbox\":[{\"marker\":{\"colorbar\":{\"outlinewidth\":0,\"ticks\":\"\"}},\"type\":\"scattermapbox\"}],\"scatterpolar\":[{\"marker\":{\"colorbar\":{\"outlinewidth\":0,\"ticks\":\"\"}},\"type\":\"scatterpolar\"}],\"scatterpolargl\":[{\"marker\":{\"colorbar\":{\"outlinewidth\":0,\"ticks\":\"\"}},\"type\":\"scatterpolargl\"}],\"scatterternary\":[{\"marker\":{\"colorbar\":{\"outlinewidth\":0,\"ticks\":\"\"}},\"type\":\"scatterternary\"}],\"surface\":[{\"colorbar\":{\"outlinewidth\":0,\"ticks\":\"\"},\"colorscale\":[[0.0,\"#0d0887\"],[0.1111111111111111,\"#46039f\"],[0.2222222222222222,\"#7201a8\"],[0.3333333333333333,\"#9c179e\"],[0.4444444444444444,\"#bd3786\"],[0.5555555555555556,\"#d8576b\"],[0.6666666666666666,\"#ed7953\"],[0.7777777777777778,\"#fb9f3a\"],[0.8888888888888888,\"#fdca26\"],[1.0,\"#f0f921\"]],\"type\":\"surface\"}],\"table\":[{\"cells\":{\"fill\":{\"color\":\"#EBF0F8\"},\"line\":{\"color\":\"white\"}},\"header\":{\"fill\":{\"color\":\"#C8D4E3\"},\"line\":{\"color\":\"white\"}},\"type\":\"table\"}]},\"layout\":{\"annotationdefaults\":{\"arrowcolor\":\"#2a3f5f\",\"arrowhead\":0,\"arrowwidth\":1},\"autotypenumbers\":\"strict\",\"coloraxis\":{\"colorbar\":{\"outlinewidth\":0,\"ticks\":\"\"}},\"colorscale\":{\"diverging\":[[0,\"#8e0152\"],[0.1,\"#c51b7d\"],[0.2,\"#de77ae\"],[0.3,\"#f1b6da\"],[0.4,\"#fde0ef\"],[0.5,\"#f7f7f7\"],[0.6,\"#e6f5d0\"],[0.7,\"#b8e186\"],[0.8,\"#7fbc41\"],[0.9,\"#4d9221\"],[1,\"#276419\"]],\"sequential\":[[0.0,\"#0d0887\"],[0.1111111111111111,\"#46039f\"],[0.2222222222222222,\"#7201a8\"],[0.3333333333333333,\"#9c179e\"],[0.4444444444444444,\"#bd3786\"],[0.5555555555555556,\"#d8576b\"],[0.6666666666666666,\"#ed7953\"],[0.7777777777777778,\"#fb9f3a\"],[0.8888888888888888,\"#fdca26\"],[1.0,\"#f0f921\"]],\"sequentialminus\":[[0.0,\"#0d0887\"],[0.1111111111111111,\"#46039f\"],[0.2222222222222222,\"#7201a8\"],[0.3333333333333333,\"#9c179e\"],[0.4444444444444444,\"#bd3786\"],[0.5555555555555556,\"#d8576b\"],[0.6666666666666666,\"#ed7953\"],[0.7777777777777778,\"#fb9f3a\"],[0.8888888888888888,\"#fdca26\"],[1.0,\"#f0f921\"]]},\"colorway\":[\"#636efa\",\"#EF553B\",\"#00cc96\",\"#ab63fa\",\"#FFA15A\",\"#19d3f3\",\"#FF6692\",\"#B6E880\",\"#FF97FF\",\"#FECB52\"],\"font\":{\"color\":\"#2a3f5f\"},\"geo\":{\"bgcolor\":\"white\",\"lakecolor\":\"white\",\"landcolor\":\"#E5ECF6\",\"showlakes\":true,\"showland\":true,\"subunitcolor\":\"white\"},\"hoverlabel\":{\"align\":\"left\"},\"hovermode\":\"closest\",\"mapbox\":{\"style\":\"light\"},\"paper_bgcolor\":\"white\",\"plot_bgcolor\":\"#E5ECF6\",\"polar\":{\"angularaxis\":{\"gridcolor\":\"white\",\"linecolor\":\"white\",\"ticks\":\"\"},\"bgcolor\":\"#E5ECF6\",\"radialaxis\":{\"gridcolor\":\"white\",\"linecolor\":\"white\",\"ticks\":\"\"}},\"scene\":{\"xaxis\":{\"backgroundcolor\":\"#E5ECF6\",\"gridcolor\":\"white\",\"gridwidth\":2,\"linecolor\":\"white\",\"showbackground\":true,\"ticks\":\"\",\"zerolinecolor\":\"white\"},\"yaxis\":{\"backgroundcolor\":\"#E5ECF6\",\"gridcolor\":\"white\",\"gridwidth\":2,\"linecolor\":\"white\",\"showbackground\":true,\"ticks\":\"\",\"zerolinecolor\":\"white\"},\"zaxis\":{\"backgroundcolor\":\"#E5ECF6\",\"gridcolor\":\"white\",\"gridwidth\":2,\"linecolor\":\"white\",\"showbackground\":true,\"ticks\":\"\",\"zerolinecolor\":\"white\"}},\"shapedefaults\":{\"line\":{\"color\":\"#2a3f5f\"}},\"ternary\":{\"aaxis\":{\"gridcolor\":\"white\",\"linecolor\":\"white\",\"ticks\":\"\"},\"baxis\":{\"gridcolor\":\"white\",\"linecolor\":\"white\",\"ticks\":\"\"},\"bgcolor\":\"#E5ECF6\",\"caxis\":{\"gridcolor\":\"white\",\"linecolor\":\"white\",\"ticks\":\"\"}},\"title\":{\"x\":0.05},\"xaxis\":{\"automargin\":true,\"gridcolor\":\"white\",\"linecolor\":\"white\",\"ticks\":\"\",\"title\":{\"standoff\":15},\"zerolinecolor\":\"white\",\"zerolinewidth\":2},\"yaxis\":{\"automargin\":true,\"gridcolor\":\"white\",\"linecolor\":\"white\",\"ticks\":\"\",\"title\":{\"standoff\":15},\"zerolinecolor\":\"white\",\"zerolinewidth\":2}}},\"xaxis\":{\"anchor\":\"y\",\"domain\":[0.0,1.0],\"title\":{\"text\":\"GF\"}},\"yaxis\":{\"anchor\":\"x\",\"domain\":[0.0,1.0],\"title\":{\"text\":\"count\"}},\"legend\":{\"tracegroupgap\":0},\"margin\":{\"t\":60},\"barmode\":\"relative\"},                        {\"responsive\": true}                    ).then(function(){\n",
       "                            \n",
       "var gd = document.getElementById('6cd76c09-d574-4506-95a5-abb3f13c0e3e');\n",
       "var x = new MutationObserver(function (mutations, observer) {{\n",
       "        var display = window.getComputedStyle(gd).display;\n",
       "        if (!display || display === 'none') {{\n",
       "            console.log([gd, 'removed!']);\n",
       "            Plotly.purge(gd);\n",
       "            observer.disconnect();\n",
       "        }}\n",
       "}});\n",
       "\n",
       "// Listen for the removal of the full notebook cells\n",
       "var notebookContainer = gd.closest('#notebook-container');\n",
       "if (notebookContainer) {{\n",
       "    x.observe(notebookContainer, {childList: true});\n",
       "}}\n",
       "\n",
       "// Listen for the clearing of the current output cell\n",
       "var outputEl = gd.closest('.output');\n",
       "if (outputEl) {{\n",
       "    x.observe(outputEl, {childList: true});\n",
       "}}\n",
       "\n",
       "                        })                };                });            </script>        </div>"
      ]
     },
     "metadata": {},
     "output_type": "display_data"
    },
    {
     "data": {
      "application/vnd.plotly.v1+json": {
       "config": {
        "plotlyServerURL": "https://plot.ly"
       },
       "data": [
        {
         "alignmentgroup": "True",
         "bingroup": "x",
         "hovertemplate": "GF=%{x}<br>count=%{y}<extra></extra>",
         "legendgroup": "",
         "marker": {
          "color": "#636efa",
          "pattern": {
           "shape": ""
          }
         },
         "name": "",
         "nbinsx": 100,
         "offsetgroup": "",
         "orientation": "v",
         "showlegend": false,
         "type": "histogram",
         "x": [
          2003.810319,
          8524.370502,
          12115.89471,
          895.517451,
          2189.644083,
          10127.11127,
          1709.079264,
          3197.544903,
          434.357883,
          23873.16297,
          690.313428,
          1345.81419,
          2307.938913,
          981.313461,
          7310.487087,
          23374.5379,
          4654.334034,
          4973.463261,
          7835.870097,
          11762.45364,
          1627.30296,
          270.022329,
          21042.91159,
          5442.614127,
          1051.098444,
          9806.219316,
          329.158809,
          10690.898,
          4518.044568,
          15226.21112,
          40779.66368,
          1896.743547,
          38476.24967,
          10970.07073,
          134409.5383,
          10123.79359,
          2629.423539,
          27313.91102,
          1180.078956,
          1307.646666,
          197.429238,
          142.913889,
          903.021048,
          10716.83363,
          18633.67303,
          11844.49676,
          2798.992584,
          1571.342004,
          12353.92997,
          2119.561668,
          13507.18319,
          3061.745325,
          5820.807663,
          1742.691267,
          3595.331772,
          2961.298602,
          4783.391091,
          9003.295071,
          5037.002172,
          12261.84415,
          5951.804589,
          9756.985572,
          3840.41574,
          1260.860175,
          2302.622316,
          578.553354,
          4282.340643,
          5497.676226,
          840.636873,
          8776.686879,
          16285.25056,
          12581.02368,
          823.593582,
          5080.256658,
          26625.83708,
          8976.528378,
          384.850764,
          27894.20522,
          13.038894,
          14687.68642,
          515.359989,
          4646.471769,
          10522.50337,
          12082.38331,
          1759.614273,
          2497.724586,
          2081.341656,
          3533.304078,
          50177.31203,
          12008.3796,
          1632.752964,
          4999.158324,
          7098.245298,
          28703.79326,
          10738.5571,
          923.336091,
          14737.27446,
          17956.49909,
          210.774312,
          3814.711929,
          3346.842645,
          5181.904044,
          14412.89425,
          692.434818,
          29405.20352,
          3465.756396,
          946.472364,
          7134.676344
         ],
         "xaxis": "x",
         "yaxis": "y"
        }
       ],
       "layout": {
        "autosize": true,
        "barmode": "relative",
        "legend": {
         "tracegroupgap": 0
        },
        "margin": {
         "t": 60
        },
        "template": {
         "data": {
          "bar": [
           {
            "error_x": {
             "color": "#2a3f5f"
            },
            "error_y": {
             "color": "#2a3f5f"
            },
            "marker": {
             "line": {
              "color": "#E5ECF6",
              "width": 0.5
             },
             "pattern": {
              "fillmode": "overlay",
              "size": 10,
              "solidity": 0.2
             }
            },
            "type": "bar"
           }
          ],
          "barpolar": [
           {
            "marker": {
             "line": {
              "color": "#E5ECF6",
              "width": 0.5
             },
             "pattern": {
              "fillmode": "overlay",
              "size": 10,
              "solidity": 0.2
             }
            },
            "type": "barpolar"
           }
          ],
          "carpet": [
           {
            "aaxis": {
             "endlinecolor": "#2a3f5f",
             "gridcolor": "white",
             "linecolor": "white",
             "minorgridcolor": "white",
             "startlinecolor": "#2a3f5f"
            },
            "baxis": {
             "endlinecolor": "#2a3f5f",
             "gridcolor": "white",
             "linecolor": "white",
             "minorgridcolor": "white",
             "startlinecolor": "#2a3f5f"
            },
            "type": "carpet"
           }
          ],
          "choropleth": [
           {
            "colorbar": {
             "outlinewidth": 0,
             "ticks": ""
            },
            "type": "choropleth"
           }
          ],
          "contour": [
           {
            "colorbar": {
             "outlinewidth": 0,
             "ticks": ""
            },
            "colorscale": [
             [
              0,
              "#0d0887"
             ],
             [
              0.1111111111111111,
              "#46039f"
             ],
             [
              0.2222222222222222,
              "#7201a8"
             ],
             [
              0.3333333333333333,
              "#9c179e"
             ],
             [
              0.4444444444444444,
              "#bd3786"
             ],
             [
              0.5555555555555556,
              "#d8576b"
             ],
             [
              0.6666666666666666,
              "#ed7953"
             ],
             [
              0.7777777777777778,
              "#fb9f3a"
             ],
             [
              0.8888888888888888,
              "#fdca26"
             ],
             [
              1,
              "#f0f921"
             ]
            ],
            "type": "contour"
           }
          ],
          "contourcarpet": [
           {
            "colorbar": {
             "outlinewidth": 0,
             "ticks": ""
            },
            "type": "contourcarpet"
           }
          ],
          "heatmap": [
           {
            "colorbar": {
             "outlinewidth": 0,
             "ticks": ""
            },
            "colorscale": [
             [
              0,
              "#0d0887"
             ],
             [
              0.1111111111111111,
              "#46039f"
             ],
             [
              0.2222222222222222,
              "#7201a8"
             ],
             [
              0.3333333333333333,
              "#9c179e"
             ],
             [
              0.4444444444444444,
              "#bd3786"
             ],
             [
              0.5555555555555556,
              "#d8576b"
             ],
             [
              0.6666666666666666,
              "#ed7953"
             ],
             [
              0.7777777777777778,
              "#fb9f3a"
             ],
             [
              0.8888888888888888,
              "#fdca26"
             ],
             [
              1,
              "#f0f921"
             ]
            ],
            "type": "heatmap"
           }
          ],
          "heatmapgl": [
           {
            "colorbar": {
             "outlinewidth": 0,
             "ticks": ""
            },
            "colorscale": [
             [
              0,
              "#0d0887"
             ],
             [
              0.1111111111111111,
              "#46039f"
             ],
             [
              0.2222222222222222,
              "#7201a8"
             ],
             [
              0.3333333333333333,
              "#9c179e"
             ],
             [
              0.4444444444444444,
              "#bd3786"
             ],
             [
              0.5555555555555556,
              "#d8576b"
             ],
             [
              0.6666666666666666,
              "#ed7953"
             ],
             [
              0.7777777777777778,
              "#fb9f3a"
             ],
             [
              0.8888888888888888,
              "#fdca26"
             ],
             [
              1,
              "#f0f921"
             ]
            ],
            "type": "heatmapgl"
           }
          ],
          "histogram": [
           {
            "marker": {
             "pattern": {
              "fillmode": "overlay",
              "size": 10,
              "solidity": 0.2
             }
            },
            "type": "histogram"
           }
          ],
          "histogram2d": [
           {
            "colorbar": {
             "outlinewidth": 0,
             "ticks": ""
            },
            "colorscale": [
             [
              0,
              "#0d0887"
             ],
             [
              0.1111111111111111,
              "#46039f"
             ],
             [
              0.2222222222222222,
              "#7201a8"
             ],
             [
              0.3333333333333333,
              "#9c179e"
             ],
             [
              0.4444444444444444,
              "#bd3786"
             ],
             [
              0.5555555555555556,
              "#d8576b"
             ],
             [
              0.6666666666666666,
              "#ed7953"
             ],
             [
              0.7777777777777778,
              "#fb9f3a"
             ],
             [
              0.8888888888888888,
              "#fdca26"
             ],
             [
              1,
              "#f0f921"
             ]
            ],
            "type": "histogram2d"
           }
          ],
          "histogram2dcontour": [
           {
            "colorbar": {
             "outlinewidth": 0,
             "ticks": ""
            },
            "colorscale": [
             [
              0,
              "#0d0887"
             ],
             [
              0.1111111111111111,
              "#46039f"
             ],
             [
              0.2222222222222222,
              "#7201a8"
             ],
             [
              0.3333333333333333,
              "#9c179e"
             ],
             [
              0.4444444444444444,
              "#bd3786"
             ],
             [
              0.5555555555555556,
              "#d8576b"
             ],
             [
              0.6666666666666666,
              "#ed7953"
             ],
             [
              0.7777777777777778,
              "#fb9f3a"
             ],
             [
              0.8888888888888888,
              "#fdca26"
             ],
             [
              1,
              "#f0f921"
             ]
            ],
            "type": "histogram2dcontour"
           }
          ],
          "mesh3d": [
           {
            "colorbar": {
             "outlinewidth": 0,
             "ticks": ""
            },
            "type": "mesh3d"
           }
          ],
          "parcoords": [
           {
            "line": {
             "colorbar": {
              "outlinewidth": 0,
              "ticks": ""
             }
            },
            "type": "parcoords"
           }
          ],
          "pie": [
           {
            "automargin": true,
            "type": "pie"
           }
          ],
          "scatter": [
           {
            "marker": {
             "colorbar": {
              "outlinewidth": 0,
              "ticks": ""
             }
            },
            "type": "scatter"
           }
          ],
          "scatter3d": [
           {
            "line": {
             "colorbar": {
              "outlinewidth": 0,
              "ticks": ""
             }
            },
            "marker": {
             "colorbar": {
              "outlinewidth": 0,
              "ticks": ""
             }
            },
            "type": "scatter3d"
           }
          ],
          "scattercarpet": [
           {
            "marker": {
             "colorbar": {
              "outlinewidth": 0,
              "ticks": ""
             }
            },
            "type": "scattercarpet"
           }
          ],
          "scattergeo": [
           {
            "marker": {
             "colorbar": {
              "outlinewidth": 0,
              "ticks": ""
             }
            },
            "type": "scattergeo"
           }
          ],
          "scattergl": [
           {
            "marker": {
             "colorbar": {
              "outlinewidth": 0,
              "ticks": ""
             }
            },
            "type": "scattergl"
           }
          ],
          "scattermapbox": [
           {
            "marker": {
             "colorbar": {
              "outlinewidth": 0,
              "ticks": ""
             }
            },
            "type": "scattermapbox"
           }
          ],
          "scatterpolar": [
           {
            "marker": {
             "colorbar": {
              "outlinewidth": 0,
              "ticks": ""
             }
            },
            "type": "scatterpolar"
           }
          ],
          "scatterpolargl": [
           {
            "marker": {
             "colorbar": {
              "outlinewidth": 0,
              "ticks": ""
             }
            },
            "type": "scatterpolargl"
           }
          ],
          "scatterternary": [
           {
            "marker": {
             "colorbar": {
              "outlinewidth": 0,
              "ticks": ""
             }
            },
            "type": "scatterternary"
           }
          ],
          "surface": [
           {
            "colorbar": {
             "outlinewidth": 0,
             "ticks": ""
            },
            "colorscale": [
             [
              0,
              "#0d0887"
             ],
             [
              0.1111111111111111,
              "#46039f"
             ],
             [
              0.2222222222222222,
              "#7201a8"
             ],
             [
              0.3333333333333333,
              "#9c179e"
             ],
             [
              0.4444444444444444,
              "#bd3786"
             ],
             [
              0.5555555555555556,
              "#d8576b"
             ],
             [
              0.6666666666666666,
              "#ed7953"
             ],
             [
              0.7777777777777778,
              "#fb9f3a"
             ],
             [
              0.8888888888888888,
              "#fdca26"
             ],
             [
              1,
              "#f0f921"
             ]
            ],
            "type": "surface"
           }
          ],
          "table": [
           {
            "cells": {
             "fill": {
              "color": "#EBF0F8"
             },
             "line": {
              "color": "white"
             }
            },
            "header": {
             "fill": {
              "color": "#C8D4E3"
             },
             "line": {
              "color": "white"
             }
            },
            "type": "table"
           }
          ]
         },
         "layout": {
          "annotationdefaults": {
           "arrowcolor": "#2a3f5f",
           "arrowhead": 0,
           "arrowwidth": 1
          },
          "autotypenumbers": "strict",
          "coloraxis": {
           "colorbar": {
            "outlinewidth": 0,
            "ticks": ""
           }
          },
          "colorscale": {
           "diverging": [
            [
             0,
             "#8e0152"
            ],
            [
             0.1,
             "#c51b7d"
            ],
            [
             0.2,
             "#de77ae"
            ],
            [
             0.3,
             "#f1b6da"
            ],
            [
             0.4,
             "#fde0ef"
            ],
            [
             0.5,
             "#f7f7f7"
            ],
            [
             0.6,
             "#e6f5d0"
            ],
            [
             0.7,
             "#b8e186"
            ],
            [
             0.8,
             "#7fbc41"
            ],
            [
             0.9,
             "#4d9221"
            ],
            [
             1,
             "#276419"
            ]
           ],
           "sequential": [
            [
             0,
             "#0d0887"
            ],
            [
             0.1111111111111111,
             "#46039f"
            ],
            [
             0.2222222222222222,
             "#7201a8"
            ],
            [
             0.3333333333333333,
             "#9c179e"
            ],
            [
             0.4444444444444444,
             "#bd3786"
            ],
            [
             0.5555555555555556,
             "#d8576b"
            ],
            [
             0.6666666666666666,
             "#ed7953"
            ],
            [
             0.7777777777777778,
             "#fb9f3a"
            ],
            [
             0.8888888888888888,
             "#fdca26"
            ],
            [
             1,
             "#f0f921"
            ]
           ],
           "sequentialminus": [
            [
             0,
             "#0d0887"
            ],
            [
             0.1111111111111111,
             "#46039f"
            ],
            [
             0.2222222222222222,
             "#7201a8"
            ],
            [
             0.3333333333333333,
             "#9c179e"
            ],
            [
             0.4444444444444444,
             "#bd3786"
            ],
            [
             0.5555555555555556,
             "#d8576b"
            ],
            [
             0.6666666666666666,
             "#ed7953"
            ],
            [
             0.7777777777777778,
             "#fb9f3a"
            ],
            [
             0.8888888888888888,
             "#fdca26"
            ],
            [
             1,
             "#f0f921"
            ]
           ]
          },
          "colorway": [
           "#636efa",
           "#EF553B",
           "#00cc96",
           "#ab63fa",
           "#FFA15A",
           "#19d3f3",
           "#FF6692",
           "#B6E880",
           "#FF97FF",
           "#FECB52"
          ],
          "font": {
           "color": "#2a3f5f"
          },
          "geo": {
           "bgcolor": "white",
           "lakecolor": "white",
           "landcolor": "#E5ECF6",
           "showlakes": true,
           "showland": true,
           "subunitcolor": "white"
          },
          "hoverlabel": {
           "align": "left"
          },
          "hovermode": "closest",
          "mapbox": {
           "style": "light"
          },
          "paper_bgcolor": "white",
          "plot_bgcolor": "#E5ECF6",
          "polar": {
           "angularaxis": {
            "gridcolor": "white",
            "linecolor": "white",
            "ticks": ""
           },
           "bgcolor": "#E5ECF6",
           "radialaxis": {
            "gridcolor": "white",
            "linecolor": "white",
            "ticks": ""
           }
          },
          "scene": {
           "xaxis": {
            "backgroundcolor": "#E5ECF6",
            "gridcolor": "white",
            "gridwidth": 2,
            "linecolor": "white",
            "showbackground": true,
            "ticks": "",
            "zerolinecolor": "white"
           },
           "yaxis": {
            "backgroundcolor": "#E5ECF6",
            "gridcolor": "white",
            "gridwidth": 2,
            "linecolor": "white",
            "showbackground": true,
            "ticks": "",
            "zerolinecolor": "white"
           },
           "zaxis": {
            "backgroundcolor": "#E5ECF6",
            "gridcolor": "white",
            "gridwidth": 2,
            "linecolor": "white",
            "showbackground": true,
            "ticks": "",
            "zerolinecolor": "white"
           }
          },
          "shapedefaults": {
           "line": {
            "color": "#2a3f5f"
           }
          },
          "ternary": {
           "aaxis": {
            "gridcolor": "white",
            "linecolor": "white",
            "ticks": ""
           },
           "baxis": {
            "gridcolor": "white",
            "linecolor": "white",
            "ticks": ""
           },
           "bgcolor": "#E5ECF6",
           "caxis": {
            "gridcolor": "white",
            "linecolor": "white",
            "ticks": ""
           }
          },
          "title": {
           "x": 0.05
          },
          "xaxis": {
           "automargin": true,
           "gridcolor": "white",
           "linecolor": "white",
           "ticks": "",
           "title": {
            "standoff": 15
           },
           "zerolinecolor": "white",
           "zerolinewidth": 2
          },
          "yaxis": {
           "automargin": true,
           "gridcolor": "white",
           "linecolor": "white",
           "ticks": "",
           "title": {
            "standoff": 15
           },
           "zerolinecolor": "white",
           "zerolinewidth": 2
          }
         }
        },
        "xaxis": {
         "anchor": "y",
         "autorange": true,
         "domain": [
          0,
          1
         ],
         "range": [
          -1000,
          135000
         ],
         "title": {
          "text": "GF"
         },
         "type": "linear"
        },
        "yaxis": {
         "anchor": "x",
         "autorange": true,
         "domain": [
          0,
          1
         ],
         "range": [
          0,
          23.157894736842106
         ],
         "title": {
          "text": "count"
         }
        }
       }
      },
      "image/png": "[encoded data removed]",
      "text/html": [
       "<div>                            <div id=\"153773f9-98b9-45f1-813b-5d1faa2739b5\" class=\"plotly-graph-div\" style=\"height:525px; width:100%;\"></div>            <script type=\"text/javascript\">                require([\"plotly\"], function(Plotly) {                    window.PLOTLYENV=window.PLOTLYENV || {};                                    if (document.getElementById(\"153773f9-98b9-45f1-813b-5d1faa2739b5\")) {                    Plotly.newPlot(                        \"153773f9-98b9-45f1-813b-5d1faa2739b5\",                        [{\"alignmentgroup\":\"True\",\"bingroup\":\"x\",\"hovertemplate\":\"GF=%{x}<br>count=%{y}<extra></extra>\",\"legendgroup\":\"\",\"marker\":{\"color\":\"#636efa\",\"pattern\":{\"shape\":\"\"}},\"name\":\"\",\"nbinsx\":100,\"offsetgroup\":\"\",\"orientation\":\"v\",\"showlegend\":false,\"x\":[2003.810319,8524.370502,12115.89471,895.517451,2189.644083,10127.11127,1709.079264,3197.544903,434.357883,23873.16297,690.313428,1345.81419,2307.938913,981.313461,7310.487087,23374.5379,4654.334034,4973.463261,7835.870097,11762.45364,1627.30296,270.022329,21042.91159,5442.614127,1051.098444,9806.219316,329.158809,10690.898,4518.044568,15226.21112,40779.66368,1896.743547,38476.24967,10970.07073,134409.5383,10123.79359,2629.423539,27313.91102,1180.078956,1307.646666,197.429238,142.913889,903.021048,10716.83363,18633.67303,11844.49676,2798.992584,1571.342004,12353.92997,2119.561668,13507.18319,3061.745325,5820.807663,1742.691267,3595.331772,2961.298602,4783.391091,9003.295071,5037.002172,12261.84415,5951.804589,9756.985572,3840.41574,1260.860175,2302.622316,578.553354,4282.340643,5497.676226,840.636873,8776.686879,16285.25056,12581.02368,823.593582,5080.256658,26625.83708,8976.528378,384.850764,27894.20522,13.038894,14687.68642,515.359989,4646.471769,10522.50337,12082.38331,1759.614273,2497.724586,2081.341656,3533.304078,50177.31203,12008.3796,1632.752964,4999.158324,7098.245298,28703.79326,10738.5571,923.336091,14737.27446,17956.49909,210.774312,3814.711929,3346.842645,5181.904044,14412.89425,692.434818,29405.20352,3465.756396,946.472364,7134.676344],\"xaxis\":\"x\",\"yaxis\":\"y\",\"type\":\"histogram\"}],                        {\"template\":{\"data\":{\"bar\":[{\"error_x\":{\"color\":\"#2a3f5f\"},\"error_y\":{\"color\":\"#2a3f5f\"},\"marker\":{\"line\":{\"color\":\"#E5ECF6\",\"width\":0.5},\"pattern\":{\"fillmode\":\"overlay\",\"size\":10,\"solidity\":0.2}},\"type\":\"bar\"}],\"barpolar\":[{\"marker\":{\"line\":{\"color\":\"#E5ECF6\",\"width\":0.5},\"pattern\":{\"fillmode\":\"overlay\",\"size\":10,\"solidity\":0.2}},\"type\":\"barpolar\"}],\"carpet\":[{\"aaxis\":{\"endlinecolor\":\"#2a3f5f\",\"gridcolor\":\"white\",\"linecolor\":\"white\",\"minorgridcolor\":\"white\",\"startlinecolor\":\"#2a3f5f\"},\"baxis\":{\"endlinecolor\":\"#2a3f5f\",\"gridcolor\":\"white\",\"linecolor\":\"white\",\"minorgridcolor\":\"white\",\"startlinecolor\":\"#2a3f5f\"},\"type\":\"carpet\"}],\"choropleth\":[{\"colorbar\":{\"outlinewidth\":0,\"ticks\":\"\"},\"type\":\"choropleth\"}],\"contour\":[{\"colorbar\":{\"outlinewidth\":0,\"ticks\":\"\"},\"colorscale\":[[0.0,\"#0d0887\"],[0.1111111111111111,\"#46039f\"],[0.2222222222222222,\"#7201a8\"],[0.3333333333333333,\"#9c179e\"],[0.4444444444444444,\"#bd3786\"],[0.5555555555555556,\"#d8576b\"],[0.6666666666666666,\"#ed7953\"],[0.7777777777777778,\"#fb9f3a\"],[0.8888888888888888,\"#fdca26\"],[1.0,\"#f0f921\"]],\"type\":\"contour\"}],\"contourcarpet\":[{\"colorbar\":{\"outlinewidth\":0,\"ticks\":\"\"},\"type\":\"contourcarpet\"}],\"heatmap\":[{\"colorbar\":{\"outlinewidth\":0,\"ticks\":\"\"},\"colorscale\":[[0.0,\"#0d0887\"],[0.1111111111111111,\"#46039f\"],[0.2222222222222222,\"#7201a8\"],[0.3333333333333333,\"#9c179e\"],[0.4444444444444444,\"#bd3786\"],[0.5555555555555556,\"#d8576b\"],[0.6666666666666666,\"#ed7953\"],[0.7777777777777778,\"#fb9f3a\"],[0.8888888888888888,\"#fdca26\"],[1.0,\"#f0f921\"]],\"type\":\"heatmap\"}],\"heatmapgl\":[{\"colorbar\":{\"outlinewidth\":0,\"ticks\":\"\"},\"colorscale\":[[0.0,\"#0d0887\"],[0.1111111111111111,\"#46039f\"],[0.2222222222222222,\"#7201a8\"],[0.3333333333333333,\"#9c179e\"],[0.4444444444444444,\"#bd3786\"],[0.5555555555555556,\"#d8576b\"],[0.6666666666666666,\"#ed7953\"],[0.7777777777777778,\"#fb9f3a\"],[0.8888888888888888,\"#fdca26\"],[1.0,\"#f0f921\"]],\"type\":\"heatmapgl\"}],\"histogram\":[{\"marker\":{\"pattern\":{\"fillmode\":\"overlay\",\"size\":10,\"solidity\":0.2}},\"type\":\"histogram\"}],\"histogram2d\":[{\"colorbar\":{\"outlinewidth\":0,\"ticks\":\"\"},\"colorscale\":[[0.0,\"#0d0887\"],[0.1111111111111111,\"#46039f\"],[0.2222222222222222,\"#7201a8\"],[0.3333333333333333,\"#9c179e\"],[0.4444444444444444,\"#bd3786\"],[0.5555555555555556,\"#d8576b\"],[0.6666666666666666,\"#ed7953\"],[0.7777777777777778,\"#fb9f3a\"],[0.8888888888888888,\"#fdca26\"],[1.0,\"#f0f921\"]],\"type\":\"histogram2d\"}],\"histogram2dcontour\":[{\"colorbar\":{\"outlinewidth\":0,\"ticks\":\"\"},\"colorscale\":[[0.0,\"#0d0887\"],[0.1111111111111111,\"#46039f\"],[0.2222222222222222,\"#7201a8\"],[0.3333333333333333,\"#9c179e\"],[0.4444444444444444,\"#bd3786\"],[0.5555555555555556,\"#d8576b\"],[0.6666666666666666,\"#ed7953\"],[0.7777777777777778,\"#fb9f3a\"],[0.8888888888888888,\"#fdca26\"],[1.0,\"#f0f921\"]],\"type\":\"histogram2dcontour\"}],\"mesh3d\":[{\"colorbar\":{\"outlinewidth\":0,\"ticks\":\"\"},\"type\":\"mesh3d\"}],\"parcoords\":[{\"line\":{\"colorbar\":{\"outlinewidth\":0,\"ticks\":\"\"}},\"type\":\"parcoords\"}],\"pie\":[{\"automargin\":true,\"type\":\"pie\"}],\"scatter\":[{\"marker\":{\"colorbar\":{\"outlinewidth\":0,\"ticks\":\"\"}},\"type\":\"scatter\"}],\"scatter3d\":[{\"line\":{\"colorbar\":{\"outlinewidth\":0,\"ticks\":\"\"}},\"marker\":{\"colorbar\":{\"outlinewidth\":0,\"ticks\":\"\"}},\"type\":\"scatter3d\"}],\"scattercarpet\":[{\"marker\":{\"colorbar\":{\"outlinewidth\":0,\"ticks\":\"\"}},\"type\":\"scattercarpet\"}],\"scattergeo\":[{\"marker\":{\"colorbar\":{\"outlinewidth\":0,\"ticks\":\"\"}},\"type\":\"scattergeo\"}],\"scattergl\":[{\"marker\":{\"colorbar\":{\"outlinewidth\":0,\"ticks\":\"\"}},\"type\":\"scattergl\"}],\"scattermapbox\":[{\"marker\":{\"colorbar\":{\"outlinewidth\":0,\"ticks\":\"\"}},\"type\":\"scattermapbox\"}],\"scatterpolar\":[{\"marker\":{\"colorbar\":{\"outlinewidth\":0,\"ticks\":\"\"}},\"type\":\"scatterpolar\"}],\"scatterpolargl\":[{\"marker\":{\"colorbar\":{\"outlinewidth\":0,\"ticks\":\"\"}},\"type\":\"scatterpolargl\"}],\"scatterternary\":[{\"marker\":{\"colorbar\":{\"outlinewidth\":0,\"ticks\":\"\"}},\"type\":\"scatterternary\"}],\"surface\":[{\"colorbar\":{\"outlinewidth\":0,\"ticks\":\"\"},\"colorscale\":[[0.0,\"#0d0887\"],[0.1111111111111111,\"#46039f\"],[0.2222222222222222,\"#7201a8\"],[0.3333333333333333,\"#9c179e\"],[0.4444444444444444,\"#bd3786\"],[0.5555555555555556,\"#d8576b\"],[0.6666666666666666,\"#ed7953\"],[0.7777777777777778,\"#fb9f3a\"],[0.8888888888888888,\"#fdca26\"],[1.0,\"#f0f921\"]],\"type\":\"surface\"}],\"table\":[{\"cells\":{\"fill\":{\"color\":\"#EBF0F8\"},\"line\":{\"color\":\"white\"}},\"header\":{\"fill\":{\"color\":\"#C8D4E3\"},\"line\":{\"color\":\"white\"}},\"type\":\"table\"}]},\"layout\":{\"annotationdefaults\":{\"arrowcolor\":\"#2a3f5f\",\"arrowhead\":0,\"arrowwidth\":1},\"autotypenumbers\":\"strict\",\"coloraxis\":{\"colorbar\":{\"outlinewidth\":0,\"ticks\":\"\"}},\"colorscale\":{\"diverging\":[[0,\"#8e0152\"],[0.1,\"#c51b7d\"],[0.2,\"#de77ae\"],[0.3,\"#f1b6da\"],[0.4,\"#fde0ef\"],[0.5,\"#f7f7f7\"],[0.6,\"#e6f5d0\"],[0.7,\"#b8e186\"],[0.8,\"#7fbc41\"],[0.9,\"#4d9221\"],[1,\"#276419\"]],\"sequential\":[[0.0,\"#0d0887\"],[0.1111111111111111,\"#46039f\"],[0.2222222222222222,\"#7201a8\"],[0.3333333333333333,\"#9c179e\"],[0.4444444444444444,\"#bd3786\"],[0.5555555555555556,\"#d8576b\"],[0.6666666666666666,\"#ed7953\"],[0.7777777777777778,\"#fb9f3a\"],[0.8888888888888888,\"#fdca26\"],[1.0,\"#f0f921\"]],\"sequentialminus\":[[0.0,\"#0d0887\"],[0.1111111111111111,\"#46039f\"],[0.2222222222222222,\"#7201a8\"],[0.3333333333333333,\"#9c179e\"],[0.4444444444444444,\"#bd3786\"],[0.5555555555555556,\"#d8576b\"],[0.6666666666666666,\"#ed7953\"],[0.7777777777777778,\"#fb9f3a\"],[0.8888888888888888,\"#fdca26\"],[1.0,\"#f0f921\"]]},\"colorway\":[\"#636efa\",\"#EF553B\",\"#00cc96\",\"#ab63fa\",\"#FFA15A\",\"#19d3f3\",\"#FF6692\",\"#B6E880\",\"#FF97FF\",\"#FECB52\"],\"font\":{\"color\":\"#2a3f5f\"},\"geo\":{\"bgcolor\":\"white\",\"lakecolor\":\"white\",\"landcolor\":\"#E5ECF6\",\"showlakes\":true,\"showland\":true,\"subunitcolor\":\"white\"},\"hoverlabel\":{\"align\":\"left\"},\"hovermode\":\"closest\",\"mapbox\":{\"style\":\"light\"},\"paper_bgcolor\":\"white\",\"plot_bgcolor\":\"#E5ECF6\",\"polar\":{\"angularaxis\":{\"gridcolor\":\"white\",\"linecolor\":\"white\",\"ticks\":\"\"},\"bgcolor\":\"#E5ECF6\",\"radialaxis\":{\"gridcolor\":\"white\",\"linecolor\":\"white\",\"ticks\":\"\"}},\"scene\":{\"xaxis\":{\"backgroundcolor\":\"#E5ECF6\",\"gridcolor\":\"white\",\"gridwidth\":2,\"linecolor\":\"white\",\"showbackground\":true,\"ticks\":\"\",\"zerolinecolor\":\"white\"},\"yaxis\":{\"backgroundcolor\":\"#E5ECF6\",\"gridcolor\":\"white\",\"gridwidth\":2,\"linecolor\":\"white\",\"showbackground\":true,\"ticks\":\"\",\"zerolinecolor\":\"white\"},\"zaxis\":{\"backgroundcolor\":\"#E5ECF6\",\"gridcolor\":\"white\",\"gridwidth\":2,\"linecolor\":\"white\",\"showbackground\":true,\"ticks\":\"\",\"zerolinecolor\":\"white\"}},\"shapedefaults\":{\"line\":{\"color\":\"#2a3f5f\"}},\"ternary\":{\"aaxis\":{\"gridcolor\":\"white\",\"linecolor\":\"white\",\"ticks\":\"\"},\"baxis\":{\"gridcolor\":\"white\",\"linecolor\":\"white\",\"ticks\":\"\"},\"bgcolor\":\"#E5ECF6\",\"caxis\":{\"gridcolor\":\"white\",\"linecolor\":\"white\",\"ticks\":\"\"}},\"title\":{\"x\":0.05},\"xaxis\":{\"automargin\":true,\"gridcolor\":\"white\",\"linecolor\":\"white\",\"ticks\":\"\",\"title\":{\"standoff\":15},\"zerolinecolor\":\"white\",\"zerolinewidth\":2},\"yaxis\":{\"automargin\":true,\"gridcolor\":\"white\",\"linecolor\":\"white\",\"ticks\":\"\",\"title\":{\"standoff\":15},\"zerolinecolor\":\"white\",\"zerolinewidth\":2}}},\"xaxis\":{\"anchor\":\"y\",\"domain\":[0.0,1.0],\"title\":{\"text\":\"GF\"}},\"yaxis\":{\"anchor\":\"x\",\"domain\":[0.0,1.0],\"title\":{\"text\":\"count\"}},\"legend\":{\"tracegroupgap\":0},\"margin\":{\"t\":60},\"barmode\":\"relative\"},                        {\"responsive\": true}                    ).then(function(){\n",
       "                            \n",
       "var gd = document.getElementById('153773f9-98b9-45f1-813b-5d1faa2739b5');\n",
       "var x = new MutationObserver(function (mutations, observer) {{\n",
       "        var display = window.getComputedStyle(gd).display;\n",
       "        if (!display || display === 'none') {{\n",
       "            console.log([gd, 'removed!']);\n",
       "            Plotly.purge(gd);\n",
       "            observer.disconnect();\n",
       "        }}\n",
       "}});\n",
       "\n",
       "// Listen for the removal of the full notebook cells\n",
       "var notebookContainer = gd.closest('#notebook-container');\n",
       "if (notebookContainer) {{\n",
       "    x.observe(notebookContainer, {childList: true});\n",
       "}}\n",
       "\n",
       "// Listen for the clearing of the current output cell\n",
       "var outputEl = gd.closest('.output');\n",
       "if (outputEl) {{\n",
       "    x.observe(outputEl, {childList: true});\n",
       "}}\n",
       "\n",
       "                        })                };                });            </script>        </div>"
      ]
     },
     "metadata": {},
     "output_type": "display_data"
    }
   ],
   "source": [
    "col_of_interest = \"GF\"\n",
    "print(train[train['Class']==0][col_of_interest].min())\n",
    "fig = px.histogram(train[train['Class']==0], x=col_of_interest,nbins=100)\n",
    "fig.show()\n",
    "fig = px.histogram(train[train['Class']==1], x=col_of_interest,nbins=100)\n",
    "fig.show()"
   ]
  },
  {
   "cell_type": "code",
   "execution_count": null,
   "id": "1b67da90-6f22-47a1-b466-d9f8e1e7138b",
   "metadata": {},
   "outputs": [],
   "source": [
    "\"\"\"\n",
    "I observe that for a bunch of these variables, it seems like the Class 0\n",
    "(no diagnosis) is has a smaller standard deviation than the Class 1. This\n",
    "makes sense given how people with medical conditions will tend to have\n",
    "more extreme values. I wonder what sort of predictor power I could get\n",
    "if I simply looked at how far each person strays from the norm.\n",
    "\n",
    "unimodal_med_good_cols\n",
    "Let me, for all the unimodal distributions where it appears that Class 1\n",
    "has less kurtosis than Class 0 (the median seems to be good), calculate\n",
    "the distance from the Class 0 median and divide it by the class 0\n",
    "standard deviation.\n",
    "\n",
    "unimodal_med_bad_cols\n",
    "This is the opposite from unimodal_med_good_cols. I haven't decided how\n",
    "to handle this yet.\n",
    "\n",
    "low_pos_good_cols\n",
    "For Class 0, these have small positive values. The much higher positive\n",
    "values are indiciative of Class 1.\n",
    "\n",
    "other_cols\n",
    "semi_unimodal_cols\n",
    "bimodal_cols\n",
    "These need additional review. I'd especially like to look at all\n",
    "vairables broken down by the bimodal columns.\n",
    "\"\"\"\n",
    "unimodal_med_good_cols = [\n",
    "    \"AB\",\n",
    "    \"AF\",\n",
    "    \"AH\",\n",
    "    \"AM\",\n",
    "    \"AX\",\n",
    "    \"BD\",\n",
    "    \"BP\",\n",
    "    \"CC\",\n",
    "    \"CD\",\n",
    "    \"CH\",\n",
    "    \"CL\",\n",
    "    \"CR\",\n",
    "    \"CS\",\n",
    "    \"DF\",\n",
    "    \"DI\",\n",
    "    \"DL\",\n",
    "    \"DY\",\n",
    "    \"EB\",\n",
    "    \"FE\",\n",
    "    \"GB\",\n",
    "    \"GH\",\n",
    "]\n",
    "unimodal_med_bad_cols = [\n",
    "    \"EU\",\n",
    "]\n",
    "other_cols = [\n",
    "    \"AR\",\n",
    "    \"CB\",\n",
    "    \"CF\",\n",
    "    \"DV\",\n",
    "    \"EE\",\n",
    "    \"EG\",\n",
    "    \"EP\",\n",
    "    \"FC\",\n",
    "    \"FL\",\n",
    "    \"FS\",\n",
    "    \"GE\",\n",
    "    \"GF\",\n",
    "    \"GI\",\n",
    "]\n",
    "low_pos_good_cols = [\n",
    "    \"AY\",\n",
    "    \"BC\",\n",
    "    \"BR\",\n",
    "    \"BZ\",\n",
    "    \"DU\",\n",
    "    \"EH\",\n",
    "    \"FD\",\n",
    "    \"FR\",\n",
    "]\n",
    "semi_unimodal_cols = [\n",
    "    \"AZ\",\n",
    "    \"BN\",\n",
    "    \"BQ\",\n",
    "    \"CU\",\n",
    "    \"DA\",\n",
    "    \"DE\",\n",
    "    \"DH\",\n",
    "    \"DN\",\n",
    "    \"FI\",\n",
    "]\n",
    "bimodal_cols = [\n",
    "    \"CW\",\n",
    "    \"EL\",\n",
    "    \"GL\",\n",
    "]"
   ]
  },
  {
   "cell_type": "code",
   "execution_count": null,
   "id": "fb4f6b14-5e16-45d5-b139-a0858ecc0765",
   "metadata": {},
   "outputs": [],
   "source": [
    "def prep_df(df):\n",
    "    # Move categorical col to beginning of df\n",
    "    cols = list(df.columns)\n",
    "    cols.remove('EJ')\n",
    "    cols.insert(1,'EJ') # Temporarily I will remove this\n",
    "    df['EJ']=df['EJ'].replace({'A':0,'B':1})\n",
    "    df=df[cols]\n",
    "    \n",
    "    df=df.set_index('Id').copy(deep=True)\n",
    "    \n",
    "    \"\"\"\n",
    "    7 columns have 1, 2, or 3 null values. If I try to find insights\n",
    "    from those, I will certainly overfit. I am simply imputing those\n",
    "    values. Due to my concerns of overfitting due to the tiny dataset,\n",
    "    I am going to only impute those using the mean/mode. Fancier methods\n",
    "    risk more overfitting. Columns BQ and EL each have 60 nulls (53 of\n",
    "    those overlap). For these columns I will create new columns that\n",
    "    mark them as having had nulls and then impute the missing values.\n",
    "    \"\"\"\n",
    "    df['BQnull'] = 0\n",
    "    df.loc[df['BQ'].isnull(),'BQnull'] = 1\n",
    "    df['ELnull'] = 0\n",
    "    df.loc[df['EL'].isnull(),'ELnull'] = 1\n",
    "    # Impute values with mean and mode\n",
    "    for col in df.columns:\n",
    "        if col in {'Class','Id','BQnull','ELnull'}: continue\n",
    "        if col=='EJ':\n",
    "            df[col].fillna(train[col].mode()[0],inplace=True)\n",
    "        else:\n",
    "            df[col].fillna(train[col].mean(),inplace=True)\n",
    "    \n",
    "    return df\n",
    "train=prep_df(train)\n",
    "test=prep_df(test)\n",
    "\n",
    "#Scale Columns\n",
    "num_cols = list(train.columns)\n",
    "num_cols.remove('Class')\n",
    "sc = StandardScaler()\n",
    "train[num_cols] = sc.fit_transform(train[num_cols])\n",
    "test[num_cols]  = sc.transform(test[num_cols])"
   ]
  },
  {
   "cell_type": "code",
   "execution_count": null,
   "id": "2d50c354-904b-473a-b20e-4f1251032965",
   "metadata": {},
   "outputs": [],
   "source": [
    "fold_count=4\n",
    "\n",
    "\n",
    "\n",
    "models=[]\n",
    "test_preds=[]\n",
    "oof_preds = np.zeros(len(train))\n",
    "\n",
    "# Separate into input variables and target variable.\n",
    "x = train.drop(columns='Class').copy(deep=True)\n",
    "y = train['Class'].copy(deep=True)\n",
    "del train\n",
    "\n",
    "weights = class_weight.compute_sample_weight('balanced', y)\n",
    "\n",
    "skf = StratifiedKFold(n_splits=fold_count, shuffle=True, random_state=42)\n",
    "for fold, (train_idx, valid_idx) in enumerate(skf.split(x, y)):\n",
    "    fold_message = 'Fold '+str(fold+1)+' of '+str(fold_count)+' '\n",
    "    print(fold_message + '-' * (79-len(fold_message)))\n",
    "\n",
    "    x_train, y_train = x.iloc[train_idx], y.iloc[train_idx]\n",
    "    x_valid, y_valid = x.iloc[valid_idx], y.iloc[valid_idx]\n",
    "    \n",
    "    # Build Model\n",
    "    model = XGBClassifier(\n",
    "        objective='binary:logistic',\n",
    "        eval_metric='logloss',\n",
    "        n_estimators=5000,\n",
    "        # I am using a scale_pos_weight becuase the evaluation function is a BALANCED log loss\n",
    "        scale_pos_weight=(len(y[y==0]) / len(y[y==1])),\n",
    "        random_state=1,\n",
    "        verbosity=0,\n",
    "        n_jobs=-1,\n",
    "        early_stopping_rounds=300,\n",
    "        learning_rate= 0.005, \n",
    "        max_depth=4,\n",
    "        # alpha=0.000463768723479341,\n",
    "        # colsample_bytree= 0.618829300507829,\n",
    "        # min_child_weight=9,\n",
    "        subsample=0.80,\n",
    "        eta=0.03,\n",
    "        gamma=1.5,\n",
    "        # booster='gbtree',\n",
    "        # grow_policy='depthwise',\n",
    "    )\n",
    "    model.fit(\n",
    "        x_train,\n",
    "        y_train,\n",
    "        eval_set=[(x_valid, y_valid)],\n",
    "        verbose=0)\n",
    "    models.append(model)\n",
    "    \n",
    "    valid_preds = model.predict_proba(x_valid)[:, 1]\n",
    "    test_preds.append(model.predict_proba(test)[:, 1])\n",
    "    \n",
    "    # Score OOF\n",
    "    print(\n",
    "        'Best Iteration:',\n",
    "        model.best_iteration)\n",
    "    print(\n",
    "        'Validation OOF balanced_log_loss (BAD)',\n",
    "        balanced_log_loss(y_valid, valid_preds))\n",
    "    print(\n",
    "        'Validation OOF competition_log_loss (GOOD)',\n",
    "        competition_log_loss(y_valid, valid_preds))\n",
    "    print(\n",
    "        'Validation OOF log_loss with sample_weights',\n",
    "        log_loss(y_valid, valid_preds, sample_weight=weights[valid_idx]))\n",
    "    print(\n",
    "        'Validation OOF log_loss',\n",
    "          log_loss(y_valid, valid_preds))\n",
    "    \n",
    "    oof_preds[valid_idx] = valid_preds\n",
    "    \n",
    "test_preds = np.mean(test_preds, axis=0)\n",
    "x['Pred']=oof_preds\n",
    "x.sort_index(inplace=True)\n",
    "y.sort_index(inplace=True)\n",
    "\n",
    "# Score OOF\n",
    "print(\n",
    "    '\\n\\nCombined OOF balanced_log_loss',\n",
    "    balanced_log_loss(y, oof_preds))\n",
    "print(\n",
    "    'Combined OOF competition_log_loss (GOOD)',\n",
    "    competition_log_loss(y_valid, valid_preds))\n",
    "print(\n",
    "    'Combined OOF log_loss with sample_weights',\n",
    "    log_loss(y, oof_preds, sample_weight=weights))\n",
    "print(\n",
    "    'Combined OOF log_loss',\n",
    "      log_loss(y, oof_preds))"
   ]
  },
  {
   "cell_type": "code",
   "execution_count": null,
   "id": "154c3f81-06fe-4887-bb9f-26023ca71e77",
   "metadata": {},
   "outputs": [],
   "source": [
    "#Confusion Matrix for OOF predictions\n",
    "\n",
    "cm = confusion_matrix(y, x['Pred'].round())\n",
    "\n",
    "fig = px.imshow(cm,\n",
    "                text_auto=True,\n",
    "                labels=dict(x=\"Predicted\", y=\"Actual\", color=\"Count\"),\n",
    "                x=['0', '1'],\n",
    "                y=['0', '1']\n",
    "               )\n",
    "fig.update_xaxes(side=\"top\")\n",
    "fig.update_layout(width=500,height=500)\n",
    "\n",
    "fig.show()\n",
    "\n",
    "\n",
    "\n",
    "\n",
    "# Feature Importance\n",
    "for model_pos in range(len(models)):\n",
    "    model_feature_importance = pd.DataFrame(\n",
    "        {\n",
    "            'Value':models[model_pos].feature_importances_,\n",
    "            'Feature':x.drop(columns='Pred').columns})\n",
    "    model_feature_importance['Model']=model_pos\n",
    "    if model_pos==0: feature_importance = model_feature_importance\n",
    "    else: feature_importance = pd.concat(\n",
    "        [feature_importance,model_feature_importance],axis=0)\n",
    "\n",
    "# Sort by total importance across all models\n",
    "total_feature_importance=feature_importance.groupby('Feature')['Value']\n",
    "total_feature_importance=total_feature_importance.sum().to_frame().reset_index()\n",
    "\n",
    "total_feature_importance.rename(\n",
    "    columns={'Value':'Total Value'},\n",
    "    inplace=True)\n",
    "feature_importance=feature_importance.merge(\n",
    "    total_feature_importance,\n",
    "    how = 'left',\n",
    "    on = 'Feature')\n",
    "# I just want to see top 10 and the special features\n",
    "feature_importance.sort_values(\n",
    "    by=[\"Total Value\",'Model'],\n",
    "    inplace=True)\n",
    "features_to_plot = feature_importance.drop_duplicates('Feature')\n",
    "features_to_plot = list(features_to_plot.iloc[-10:]['Feature'].values)\n",
    "for col in [\n",
    "    'EJ',\n",
    "    'BQnull',\n",
    "    'BQ',\n",
    "    'ELnull',\n",
    "    'EL'\n",
    "    ]:\n",
    "    if col not in features_to_plot:\n",
    "        features_to_plot.append(col)\n",
    "feature_importance=feature_importance[\n",
    "    feature_importance['Feature'].isin(features_to_plot)]\n",
    "feature_importance.sort_values(by=[\"Total Value\",'Model'],inplace=True)\n",
    "feature_importance.rename(columns={'Value':'Importance'},inplace=True)\n",
    "\n",
    "\n",
    "fig = px.bar(feature_importance, x='Importance', y='Feature', facet_col=\"Model\")\n",
    "fig.update_layout(width=1000,height=500)\n",
    "fig.show()"
   ]
  },
  {
   "cell_type": "code",
   "execution_count": null,
   "id": "c58f5a7b-777d-4b54-9c98-9bbd2c09049f",
   "metadata": {},
   "outputs": [],
   "source": [
    "submission = test.copy(deep=True)\n",
    "submission['class_1'] = test_preds\n",
    "submission['class_0'] = [1 - x for x in test_preds]\n",
    "submission=submission[['class_0','class_1']]\n",
    "\n",
    "# Save the out of fold predictions on the train dataset\n",
    "x=x['Pred']\n",
    "\n",
    "#Save Output\n",
    "save_output=False\n",
    "\n",
    "if save_output:\n",
    "    outputFileName = 'v2'\n",
    "    outputFileName += (' ' + str(datetime.today())[:22].replace(':','.'))\n",
    "    x.to_csv(outputFileName + ' ooftrain.csv')\n",
    "    submission.to_csv(outputFileName + '.csv')\n",
    "\n",
    "submission.to_csv('submission.csv')\n",
    "submission"
   ]
  }
 ],
 "metadata": {
  "kernelspec": {
   "display_name": "Python 3 (ipykernel)",
   "language": "python",
   "name": "python3"
  },
  "language_info": {
   "codemirror_mode": {
    "name": "ipython",
    "version": 3
   },
   "file_extension": ".py",
   "mimetype": "text/x-python",
   "name": "python",
   "nbconvert_exporter": "python",
   "pygments_lexer": "ipython3",
   "version": "3.9.12"
  }
 },
 "nbformat": 4,
 "nbformat_minor": 5
}
