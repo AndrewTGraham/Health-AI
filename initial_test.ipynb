{
 "cells": [
  {
   "cell_type": "code",
   "execution_count": 1,
   "id": "6b2458ad-02c4-4f19-852a-cd0527dd955f",
   "metadata": {},
   "outputs": [],
   "source": [
    "import numpy as np\n",
    "import pandas as pd\n",
    "\n",
    "pd.set_option('display.max_columns', None)"
   ]
  },
  {
   "cell_type": "code",
   "execution_count": 2,
   "id": "7fe8cbf0-857b-4ad6-8096-6ce7f8302d94",
   "metadata": {},
   "outputs": [],
   "source": [
    "\n",
    "filepath = ('C:/Users/andre/OneDrive/Desktop/GitHub/Health-AI/'\n",
    "            'icr-identify-age-related-conditions/')\n",
    "\n",
    "train   = pd.read_csv(filepath+'train.csv')\n",
    "test    = pd.read_csv(filepath+'test.csv')\n",
    "greeks  = pd.read_csv(filepath+'greeks.csv')\n",
    "example = pd.read_csv(filepath+'sample_submission.csv')"
   ]
  },
  {
   "cell_type": "code",
   "execution_count": 3,
   "id": "fb4f6b14-5e16-45d5-b139-a0858ecc0765",
   "metadata": {},
   "outputs": [],
   "source": [
    "#79############################################################################\n",
    "#72#####################################################################\n",
    "def prep_df(df):\n",
    "    # Move categorical col to beginning of df\n",
    "    cols = list(df.columns)\n",
    "    cols.remove('EJ')\n",
    "    # cols.insert(1,'EJ') # Temporarily I will remove this\n",
    "    df=df[cols]\n",
    "    \n",
    "    df=df.set_index('Id').copy(deep=True)\n",
    "\n",
    "    # Temporarily just fillna\n",
    "    df.fillna(0,inplace=True)\n",
    "\n",
    "    # Remove whitespace from column names\n",
    "    renamer={}\n",
    "    for col in df.columns:\n",
    "        renamer[col]=col.strip()\n",
    "    df.rename(columns=renamer,inplace=True)\n",
    "    return df\n",
    "train=prep_df(train)\n",
    "test=prep_df(test)"
   ]
  },
  {
   "cell_type": "code",
   "execution_count": 4,
   "id": "13cfe6b2-855a-4f3e-946a-f5e73c07338e",
   "metadata": {},
   "outputs": [
    {
     "name": "stdout",
     "output_type": "stream",
     "text": [
      "Confusion Matrix (Accuracy 1.0000)\n",
      "\n",
      "       Prediction\n",
      "Actual   0   1\n",
      "     0 303   0\n",
      "     1   0  67\n",
      "Confusion Matrix (Accuracy 0.9231)\n",
      "\n",
      "       Prediction\n",
      "Actual   0   1\n",
      "     0 202   4\n",
      "     1  15  26\n"
     ]
    }
   ],
   "source": [
    "# CLASSIFICATION RANDOM FOREST\n",
    "\n",
    "import sklearn\n",
    "from sklearn.tree import (\n",
    "    DecisionTreeClassifier,\n",
    "    DecisionTreeRegressor\n",
    "    )\n",
    "from sklearn.ensemble import (\n",
    "    RandomForestClassifier,\n",
    "    RandomForestRegressor,\n",
    "    GradientBoostingClassifier\n",
    "    )\n",
    "from sklearn.model_selection import (\n",
    "    train_test_split,\n",
    "    cross_val_score,\n",
    "    GridSearchCV\n",
    "    )\n",
    "import matplotlib.pylab as plt\n",
    "from dmba import (\n",
    "    plotDecisionTree,\n",
    "    classificationSummary,\n",
    "    regressionSummary\n",
    "    )\n",
    "\n",
    "# Separate into input variables and target variable.\n",
    "x = train[train.columns[:-1]]\n",
    "y = train[train.columns[-1]]\n",
    "\n",
    "\n",
    "# Partition Data\n",
    "train_x, valid_x, train_y, valid_y = train_test_split(x, y, test_size=.4, random_state=1)\n",
    "\n",
    "\n",
    "# Create the tree.\n",
    "rf = RandomForestClassifier(n_estimators=500, random_state=1)\n",
    "# For RandomForestClassifier many parameters are of interest:\n",
    "#     n_estimators:          number of trees in the forest.\n",
    "#     random_state:          allows reproduceable results.\n",
    "#     max_depth:             max number of levels below the root node.\n",
    "#     min_impurity_decrease: min impurity decrease to split a node.\n",
    "#     min_samples_split:     min samples to split a node.\n",
    "rf.fit(train_x, train_y)\n",
    "\n",
    "\n",
    "# # Variable (Feature) Importance Plot\n",
    "# # Consider the Paramters: rotate, pdfFile\n",
    "# importances = rf.feature_importances_\n",
    "# std = np.std([tree.feature_importances_ for tree in rf.estimators_], axis=0)\n",
    "# vip_df = pd.DataFrame({'feature': train_x.columns, 'importance': importances, 'std': std})\n",
    "# vip_df.sort_values('importance', inplace=True, ascending=False)\n",
    "# print(vip_df)\n",
    "# vip_df.sort_values('importance', inplace=True, ascending=True)\n",
    "# ax = vip_df.plot(kind='barh', xerr='std', x='feature', legend=False)\n",
    "# ax.set_ylabel('')\n",
    "# plt.show()\n",
    "\n",
    "\n",
    "# Evaluate Performance\n",
    "classificationSummary(train_y, rf.predict(train_x))\n",
    "classificationSummary(valid_y, rf.predict(valid_x))"
   ]
  },
  {
   "cell_type": "code",
   "execution_count": 5,
   "id": "9739257f-af6b-403e-a969-9ab1831d1c15",
   "metadata": {},
   "outputs": [],
   "source": [
    "# Score test\n",
    "\"\"\"\n",
    "Predict_proba returns a 2 dimensional array, but I will just keep the\n",
    "probabilities of class_1\n",
    "\"\"\"\n",
    "results = rf.predict_proba(test)[:,1]\n",
    "submission = test.copy(deep=True)\n",
    "submission['class_1'] = results\n",
    "submission['class_0'] = 1 - results\n",
    "submission=submission[['class_0','class_1']]"
   ]
  }
 ],
 "metadata": {
  "kernelspec": {
   "display_name": "Python 3 (ipykernel)",
   "language": "python",
   "name": "python3"
  },
  "language_info": {
   "codemirror_mode": {
    "name": "ipython",
    "version": 3
   },
   "file_extension": ".py",
   "mimetype": "text/x-python",
   "name": "python",
   "nbconvert_exporter": "python",
   "pygments_lexer": "ipython3",
   "version": "3.9.12"
  }
 },
 "nbformat": 4,
 "nbformat_minor": 5
}
